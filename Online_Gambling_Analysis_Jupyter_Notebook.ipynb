{
 "cells": [
  {
   "cell_type": "markdown",
   "metadata": {},
   "source": [
    "# Group 5 - Online Gambling Analysis"
   ]
  },
  {
   "cell_type": "markdown",
   "metadata": {},
   "source": [
    "#### Théau Bruno | Alexandra-Maria Ionascu | Venkat Jayanarasimhan"
   ]
  },
  {
   "cell_type": "code",
   "execution_count": 2,
   "metadata": {},
   "outputs": [],
   "source": [
    "# Installing required packages\n",
    "\n",
    "if(!require(\"tidyr\")) install.packages(\"tidyr\"); library(\"tidyr\")\n",
    "if(!require(\"plyr\")) install.packages(\"plyr\"); library(\"plyr\")\n",
    "if(!require(\"dplyr\")) install.packages(\"dplyr\"); library(\"dplyr\")\n",
    "if(!require(\"lubridate\")) install.packages(\"lubridate\"); library(\"lubridate\")\n",
    "if(!require(\"scales\")) install.packages(\"scales\"); library(\"scales\")\n",
    "if(!require(\"dplyr\")) install.packages(\"tidyverse\"); \n",
    "if(!require(\"reshape2\")) install.packages(\"reshape2\"); \n",
    "library(haven)\n",
    "library(dplyr)\n",
    "library(readr)\n",
    "library(tidyverse)\n",
    "library(reshape2)"
   ]
  },
  {
   "cell_type": "code",
   "execution_count": 3,
   "metadata": {},
   "outputs": [
    {
     "data": {
      "text/html": [
       "<table>\n",
       "<thead><tr><th scope=col>Country</th><th scope=col>CountryName</th><th scope=col>lon</th><th scope=col>lat</th></tr></thead>\n",
       "<tbody>\n",
       "\t<tr><td> 4            </td><td>Afghanistan   </td><td>  67.709953   </td><td> 33.93911     </td></tr>\n",
       "\t<tr><td> 8            </td><td>Albania       </td><td>  20.168331   </td><td> 41.15333     </td></tr>\n",
       "\t<tr><td>10            </td><td>Antarctica    </td><td> 135.000000   </td><td>-82.86275     </td></tr>\n",
       "\t<tr><td>12            </td><td>Algeria       </td><td>   1.659626   </td><td> 28.03389     </td></tr>\n",
       "\t<tr><td>16            </td><td>American Samoa</td><td>-170.132217   </td><td>-14.27097     </td></tr>\n",
       "\t<tr><td>20            </td><td>Andorra       </td><td>   1.521801   </td><td> 42.50628     </td></tr>\n",
       "</tbody>\n",
       "</table>\n"
      ],
      "text/latex": [
       "\\begin{tabular}{r|llll}\n",
       " Country & CountryName & lon & lat\\\\\n",
       "\\hline\n",
       "\t  4             & Afghanistan    &   67.709953    &  33.93911     \\\\\n",
       "\t  8             & Albania        &   20.168331    &  41.15333     \\\\\n",
       "\t 10             & Antarctica     &  135.000000    & -82.86275     \\\\\n",
       "\t 12             & Algeria        &    1.659626    &  28.03389     \\\\\n",
       "\t 16             & American Samoa & -170.132217    & -14.27097     \\\\\n",
       "\t 20             & Andorra        &    1.521801    &  42.50628     \\\\\n",
       "\\end{tabular}\n"
      ],
      "text/markdown": [
       "\n",
       "| Country | CountryName | lon | lat |\n",
       "|---|---|---|---|\n",
       "|  4             | Afghanistan    |   67.709953    |  33.93911      |\n",
       "|  8             | Albania        |   20.168331    |  41.15333      |\n",
       "| 10             | Antarctica     |  135.000000    | -82.86275      |\n",
       "| 12             | Algeria        |    1.659626    |  28.03389      |\n",
       "| 16             | American Samoa | -170.132217    | -14.27097      |\n",
       "| 20             | Andorra        |    1.521801    |  42.50628      |\n",
       "\n"
      ],
      "text/plain": [
       "  Country CountryName    lon         lat      \n",
       "1  4      Afghanistan      67.709953  33.93911\n",
       "2  8      Albania          20.168331  41.15333\n",
       "3 10      Antarctica      135.000000 -82.86275\n",
       "4 12      Algeria           1.659626  28.03389\n",
       "5 16      American Samoa -170.132217 -14.27097\n",
       "6 20      Andorra           1.521801  42.50628"
      ]
     },
     "metadata": {},
     "output_type": "display_data"
    }
   ],
   "source": [
    "# Loading Country Dataset\n",
    "\n",
    "countries <- read.csv(\"Country.csv\")\n",
    "head(countries)"
   ]
  },
  {
   "cell_type": "code",
   "execution_count": 4,
   "metadata": {
    "scrolled": true
   },
   "outputs": [
    {
     "name": "stderr",
     "output_type": "stream",
     "text": [
      "The following `from` values were not present in `x`: 18, 19, 20, 21, 22\n",
      "Warning message:\n",
      "\" 1236 failed to parse.\"Warning message:\n",
      "\" 36761 failed to parse.\"Warning message:\n",
      "\" 39376 failed to parse.\"Warning message:\n",
      "\" 40507 failed to parse.\"The following `from` values were not present in `x`: 2, 5, 6, 7, 10, 12, 13, 17, 18, 26, 28, 29\n"
     ]
    },
    {
     "data": {
      "text/html": [
       "<table>\n",
       "<thead><tr><th scope=col>UserID</th><th scope=col>Country</th><th scope=col>Language</th><th scope=col>RegistrationDate</th><th scope=col>FirstPay</th><th scope=col>FirstAct</th><th scope=col>FirstSp</th><th scope=col>FirstCa</th><th scope=col>FirstGa</th><th scope=col>FirstPo</th><th scope=col>ApplicationID</th><th scope=col>Gender</th><th scope=col>CountryName</th><th scope=col>lon</th><th scope=col>lat</th></tr></thead>\n",
       "<tbody>\n",
       "\t<tr><td>1324354      </td><td>276          </td><td>German       </td><td>2005-02-01   </td><td>2005-02-24   </td><td>2005-02-24   </td><td>2005-02-24   </td><td>NA           </td><td>NA           </td><td>NA           </td><td>BETANDWIN.DE </td><td>male         </td><td>Germany      </td><td>10.45153     </td><td>51.16569     </td></tr>\n",
       "\t<tr><td>1324355      </td><td>300          </td><td>Greek        </td><td>2005-02-01   </td><td>2005-02-01   </td><td>2005-02-01   </td><td>2005-02-01   </td><td>NA           </td><td>NA           </td><td>2005-06-11   </td><td>BETANDWIN.COM</td><td>male         </td><td>Greece       </td><td>21.82431     </td><td>39.07421     </td></tr>\n",
       "\t<tr><td>1324356      </td><td>276          </td><td>German       </td><td>2005-02-01   </td><td>2005-02-01   </td><td>2005-02-02   </td><td>2005-02-02   </td><td>NA           </td><td>NA           </td><td>NA           </td><td>BETANDWIN.DE </td><td>male         </td><td>Germany      </td><td>10.45153     </td><td>51.16569     </td></tr>\n",
       "\t<tr><td>1324358      </td><td>752          </td><td>English      </td><td>2005-02-01   </td><td>2005-02-01   </td><td>2005-02-01   </td><td>2005-02-01   </td><td>NA           </td><td>NA           </td><td>NA           </td><td>BETANDWIN.COM</td><td>male         </td><td>Sweden       </td><td>18.64350     </td><td>60.12816     </td></tr>\n",
       "\t<tr><td>1324360      </td><td>792          </td><td>Turkish      </td><td>2005-02-01   </td><td>2005-02-02   </td><td>2005-02-02   </td><td>2005-02-02   </td><td>2005-02-03   </td><td>NA           </td><td>NA           </td><td>BETEUROPE.COM</td><td>male         </td><td>Turkey       </td><td>35.24332     </td><td>38.96375     </td></tr>\n",
       "\t<tr><td>1324362      </td><td>276          </td><td>German       </td><td>2005-02-01   </td><td>2005-02-11   </td><td>2005-02-11   </td><td>2005-02-11   </td><td>NA           </td><td>NA           </td><td>NA           </td><td>BETANDWIN.DE </td><td>male         </td><td>Germany      </td><td>10.45153     </td><td>51.16569     </td></tr>\n",
       "</tbody>\n",
       "</table>\n"
      ],
      "text/latex": [
       "\\begin{tabular}{r|lllllllllllllll}\n",
       " UserID & Country & Language & RegistrationDate & FirstPay & FirstAct & FirstSp & FirstCa & FirstGa & FirstPo & ApplicationID & Gender & CountryName & lon & lat\\\\\n",
       "\\hline\n",
       "\t 1324354       & 276           & German        & 2005-02-01    & 2005-02-24    & 2005-02-24    & 2005-02-24    & NA            & NA            & NA            & BETANDWIN.DE  & male          & Germany       & 10.45153      & 51.16569     \\\\\n",
       "\t 1324355       & 300           & Greek         & 2005-02-01    & 2005-02-01    & 2005-02-01    & 2005-02-01    & NA            & NA            & 2005-06-11    & BETANDWIN.COM & male          & Greece        & 21.82431      & 39.07421     \\\\\n",
       "\t 1324356       & 276           & German        & 2005-02-01    & 2005-02-01    & 2005-02-02    & 2005-02-02    & NA            & NA            & NA            & BETANDWIN.DE  & male          & Germany       & 10.45153      & 51.16569     \\\\\n",
       "\t 1324358       & 752           & English       & 2005-02-01    & 2005-02-01    & 2005-02-01    & 2005-02-01    & NA            & NA            & NA            & BETANDWIN.COM & male          & Sweden        & 18.64350      & 60.12816     \\\\\n",
       "\t 1324360       & 792           & Turkish       & 2005-02-01    & 2005-02-02    & 2005-02-02    & 2005-02-02    & 2005-02-03    & NA            & NA            & BETEUROPE.COM & male          & Turkey        & 35.24332      & 38.96375     \\\\\n",
       "\t 1324362       & 276           & German        & 2005-02-01    & 2005-02-11    & 2005-02-11    & 2005-02-11    & NA            & NA            & NA            & BETANDWIN.DE  & male          & Germany       & 10.45153      & 51.16569     \\\\\n",
       "\\end{tabular}\n"
      ],
      "text/markdown": [
       "\n",
       "| UserID | Country | Language | RegistrationDate | FirstPay | FirstAct | FirstSp | FirstCa | FirstGa | FirstPo | ApplicationID | Gender | CountryName | lon | lat |\n",
       "|---|---|---|---|---|---|---|---|---|---|---|---|---|---|---|\n",
       "| 1324354       | 276           | German        | 2005-02-01    | 2005-02-24    | 2005-02-24    | 2005-02-24    | NA            | NA            | NA            | BETANDWIN.DE  | male          | Germany       | 10.45153      | 51.16569      |\n",
       "| 1324355       | 300           | Greek         | 2005-02-01    | 2005-02-01    | 2005-02-01    | 2005-02-01    | NA            | NA            | 2005-06-11    | BETANDWIN.COM | male          | Greece        | 21.82431      | 39.07421      |\n",
       "| 1324356       | 276           | German        | 2005-02-01    | 2005-02-01    | 2005-02-02    | 2005-02-02    | NA            | NA            | NA            | BETANDWIN.DE  | male          | Germany       | 10.45153      | 51.16569      |\n",
       "| 1324358       | 752           | English       | 2005-02-01    | 2005-02-01    | 2005-02-01    | 2005-02-01    | NA            | NA            | NA            | BETANDWIN.COM | male          | Sweden        | 18.64350      | 60.12816      |\n",
       "| 1324360       | 792           | Turkish       | 2005-02-01    | 2005-02-02    | 2005-02-02    | 2005-02-02    | 2005-02-03    | NA            | NA            | BETEUROPE.COM | male          | Turkey        | 35.24332      | 38.96375      |\n",
       "| 1324362       | 276           | German        | 2005-02-01    | 2005-02-11    | 2005-02-11    | 2005-02-11    | NA            | NA            | NA            | BETANDWIN.DE  | male          | Germany       | 10.45153      | 51.16569      |\n",
       "\n"
      ],
      "text/plain": [
       "  UserID  Country Language RegistrationDate FirstPay   FirstAct   FirstSp   \n",
       "1 1324354 276     German   2005-02-01       2005-02-24 2005-02-24 2005-02-24\n",
       "2 1324355 300     Greek    2005-02-01       2005-02-01 2005-02-01 2005-02-01\n",
       "3 1324356 276     German   2005-02-01       2005-02-01 2005-02-02 2005-02-02\n",
       "4 1324358 752     English  2005-02-01       2005-02-01 2005-02-01 2005-02-01\n",
       "5 1324360 792     Turkish  2005-02-01       2005-02-02 2005-02-02 2005-02-02\n",
       "6 1324362 276     German   2005-02-01       2005-02-11 2005-02-11 2005-02-11\n",
       "  FirstCa    FirstGa FirstPo    ApplicationID Gender CountryName lon     \n",
       "1 <NA>       <NA>    <NA>       BETANDWIN.DE  male   Germany     10.45153\n",
       "2 <NA>       <NA>    2005-06-11 BETANDWIN.COM male   Greece      21.82431\n",
       "3 <NA>       <NA>    <NA>       BETANDWIN.DE  male   Germany     10.45153\n",
       "4 <NA>       <NA>    <NA>       BETANDWIN.COM male   Sweden      18.64350\n",
       "5 2005-02-03 <NA>    <NA>       BETEUROPE.COM male   Turkey      35.24332\n",
       "6 <NA>       <NA>    <NA>       BETANDWIN.DE  male   Germany     10.45153\n",
       "  lat     \n",
       "1 51.16569\n",
       "2 39.07421\n",
       "3 51.16569\n",
       "4 60.12816\n",
       "5 38.96375\n",
       "6 51.16569"
      ]
     },
     "metadata": {},
     "output_type": "display_data"
    },
    {
     "data": {
      "text/html": [
       "42649"
      ],
      "text/latex": [
       "42649"
      ],
      "text/markdown": [
       "42649"
      ],
      "text/plain": [
       "[1] 42649"
      ]
     },
     "metadata": {},
     "output_type": "display_data"
    },
    {
     "data": {
      "text/html": [
       "42649"
      ],
      "text/latex": [
       "42649"
      ],
      "text/markdown": [
       "42649"
      ],
      "text/plain": [
       "[1] 42649"
      ]
     },
     "metadata": {},
     "output_type": "display_data"
    }
   ],
   "source": [
    "# Reading Demographics Dataset\n",
    "\n",
    "demo <- read_sas(\"RawDataIDemographics.sas7bdat\")\n",
    "demo$Gender <- mapvalues(demo$Gender, from=c(1,0), to=c('male', 'female'))\n",
    "demo$Language <- demo$Language <- mapvalues(demo$Language,from=c(1,2,3,4,5,6,7,8,9,10,11,12,13,14,15,16,17,18,19,20,21,22), to=c(\"English\",\"German\",\"Italian\",\"Spanish\",\"Swedish\",\"French\",\"Turkish\",\"Greek\",\"Polish\",\"Norwegian\",\"Danish\",\"Catalan\",\n",
    "     \"Czech\",\"Hungarian\",\"Dutch\",\"Portugues\",\"Russian\",\"Slovenian\",\"Croatian\",\"Slovak\",\"Simple Chinese\",\"Traditional Chinese\"))\n",
    "demo$FirstPay <- ymd(demo$FirstPay)\n",
    "demo$FirstAct <- ymd(demo$FirstAct)\n",
    "demo$FirstSp <- ymd(demo$FirstSp)\n",
    "\n",
    "demo$FirstCa <- ymd(demo$FirstCa)\n",
    "demo$FirstGa <- ymd(demo$FirstGa)\n",
    "demo$FirstPo <- ymd(demo$FirstPo)\n",
    "\n",
    "demo <- dplyr::rename(demo, RegistrationDate = RegDate)\n",
    "demo$RegistrationDate <- ymd(demo$RegistrationDate)\n",
    "\n",
    "\n",
    "\n",
    "demo$ApplicationID <- mapvalues(demo$ApplicationID, from=c(1,2,3,4,5,6,7,8,9,10,11,12,13,14,15,16,17,18,19,21,22,23,24,26,27,28,29,30,31,32,33,36,38,42),\n",
    "to=c(\"BETANDWIN.COM\",\"TRIPLE-A-CASINO.COM\",\"BETANDWIN.DE\",\"WAP.BETANDWIN.COM\",\"SMS MOBILE BETTING APPLICATION\",\"CHARITY\",\n",
    "\"DOLCEVITACASINO.COM\",\"BALLS OF FIRE\",\"BETEUROPE.COM\",\"BAHSEGIR.COM\",\"CASINO.BETEUROPE.COM\",\"WWW.CASINOTURK.COM\",\"WWW.SANALCASINO.COM\",\n",
    "\"BETOTO.COM\",\"PLAYIT.COM\",\"CASINO.PLAYIT.COM\",\"HECROUPIER.COM\",\"SMS.BETANDWIN.COM\",\"WAP.BETANDWIN.DE\",\"BOF.PLAYIT.COM\",\"BOF.BETEUROPE.COM\",\n",
    "\"BETANDWIN POKER\",\"BETANDWIN CASINO\",\"SMS.BETANDWIN.DE\",\"LOTTERY.BETOTO.COM\",\n",
    "\"BETWORK.COM\",\"WAP.PLAYIT.COM\",\"PLAYIT POKER\",\"BETEUROPE POKER\",\"BETOTO POKER\",\"BETANDWIN GAMES\",\"BETOTO CASINO\",\"BETEUROPE GAMES\",\"PLAYIT GAMES\"))\n",
    "\n",
    "demo <- dplyr::inner_join(demo, countries, by=\"Country\")\n",
    "\n",
    "head(demo)\n",
    "\n",
    "length(unique(demo$UserID))\n",
    "length(demo$UserID)"
   ]
  },
  {
   "cell_type": "code",
   "execution_count": 5,
   "metadata": {},
   "outputs": [
    {
     "data": {
      "text/html": [
       "<ol class=list-inline>\n",
       "\t<li>'UserID'</li>\n",
       "\t<li>'Country'</li>\n",
       "\t<li>'Language'</li>\n",
       "\t<li>'RegistrationDate'</li>\n",
       "\t<li>'FirstPay'</li>\n",
       "\t<li>'FirstAct'</li>\n",
       "\t<li>'FirstSp'</li>\n",
       "\t<li>'FirstCa'</li>\n",
       "\t<li>'FirstGa'</li>\n",
       "\t<li>'FirstPo'</li>\n",
       "\t<li>'ApplicationID'</li>\n",
       "\t<li>'Gender'</li>\n",
       "\t<li>'CountryName'</li>\n",
       "\t<li>'lon'</li>\n",
       "\t<li>'lat'</li>\n",
       "</ol>\n"
      ],
      "text/latex": [
       "\\begin{enumerate*}\n",
       "\\item 'UserID'\n",
       "\\item 'Country'\n",
       "\\item 'Language'\n",
       "\\item 'RegistrationDate'\n",
       "\\item 'FirstPay'\n",
       "\\item 'FirstAct'\n",
       "\\item 'FirstSp'\n",
       "\\item 'FirstCa'\n",
       "\\item 'FirstGa'\n",
       "\\item 'FirstPo'\n",
       "\\item 'ApplicationID'\n",
       "\\item 'Gender'\n",
       "\\item 'CountryName'\n",
       "\\item 'lon'\n",
       "\\item 'lat'\n",
       "\\end{enumerate*}\n"
      ],
      "text/markdown": [
       "1. 'UserID'\n",
       "2. 'Country'\n",
       "3. 'Language'\n",
       "4. 'RegistrationDate'\n",
       "5. 'FirstPay'\n",
       "6. 'FirstAct'\n",
       "7. 'FirstSp'\n",
       "8. 'FirstCa'\n",
       "9. 'FirstGa'\n",
       "10. 'FirstPo'\n",
       "11. 'ApplicationID'\n",
       "12. 'Gender'\n",
       "13. 'CountryName'\n",
       "14. 'lon'\n",
       "15. 'lat'\n",
       "\n",
       "\n"
      ],
      "text/plain": [
       " [1] \"UserID\"           \"Country\"          \"Language\"         \"RegistrationDate\"\n",
       " [5] \"FirstPay\"         \"FirstAct\"         \"FirstSp\"          \"FirstCa\"         \n",
       " [9] \"FirstGa\"          \"FirstPo\"          \"ApplicationID\"    \"Gender\"          \n",
       "[13] \"CountryName\"      \"lon\"              \"lat\"             "
      ]
     },
     "metadata": {},
     "output_type": "display_data"
    }
   ],
   "source": [
    "# Checking column names\n",
    "\n",
    "colnames(demo)"
   ]
  },
  {
   "cell_type": "code",
   "execution_count": 6,
   "metadata": {
    "scrolled": true
   },
   "outputs": [
    {
     "data": {
      "text/html": [
       "2369"
      ],
      "text/latex": [
       "2369"
      ],
      "text/markdown": [
       "2369"
      ],
      "text/plain": [
       "[1] 2369"
      ]
     },
     "metadata": {},
     "output_type": "display_data"
    },
    {
     "data": {
      "text/html": [
       "2369"
      ],
      "text/latex": [
       "2369"
      ],
      "text/markdown": [
       "2369"
      ],
      "text/plain": [
       "[1] 2369"
      ]
     },
     "metadata": {},
     "output_type": "display_data"
    },
    {
     "data": {
      "text/html": [
       "<table>\n",
       "<thead><tr><th scope=col>UserID</th><th scope=col>FirstPo</th><th scope=col>LastPo</th><th scope=col>PObets</th><th scope=col>POwin</th><th scope=col>POstakes</th></tr></thead>\n",
       "<tbody>\n",
       "\t<tr><td>1324355     </td><td>2005-06-12  </td><td>2005-06-15  </td><td> 3          </td><td>  30.8295000</td><td>   8.2593000</td></tr>\n",
       "\t<tr><td>1324368     </td><td>2005-04-05  </td><td>2005-05-30  </td><td>23          </td><td>9161.6582000</td><td>9620.8147000</td></tr>\n",
       "\t<tr><td>1324369     </td><td>2005-03-03  </td><td>2005-03-03  </td><td> 1          </td><td>   0.2949455</td><td>   0.2949455</td></tr>\n",
       "\t<tr><td>1324371     </td><td>2005-02-01  </td><td>2005-02-10  </td><td> 4          </td><td> 122.6326185</td><td>  65.3674456</td></tr>\n",
       "\t<tr><td>1324372     </td><td>2005-09-02  </td><td>2005-09-30  </td><td>26          </td><td> 786.2004470</td><td> 848.4530022</td></tr>\n",
       "\t<tr><td>1324377     </td><td>2005-02-01  </td><td>2005-02-03  </td><td> 2          </td><td>  27.5521477</td><td>  12.9949062</td></tr>\n",
       "</tbody>\n",
       "</table>\n"
      ],
      "text/latex": [
       "\\begin{tabular}{r|llllll}\n",
       " UserID & FirstPo & LastPo & PObets & POwin & POstakes\\\\\n",
       "\\hline\n",
       "\t 1324355      & 2005-06-12   & 2005-06-15   &  3           &   30.8295000 &    8.2593000\\\\\n",
       "\t 1324368      & 2005-04-05   & 2005-05-30   & 23           & 9161.6582000 & 9620.8147000\\\\\n",
       "\t 1324369      & 2005-03-03   & 2005-03-03   &  1           &    0.2949455 &    0.2949455\\\\\n",
       "\t 1324371      & 2005-02-01   & 2005-02-10   &  4           &  122.6326185 &   65.3674456\\\\\n",
       "\t 1324372      & 2005-09-02   & 2005-09-30   & 26           &  786.2004470 &  848.4530022\\\\\n",
       "\t 1324377      & 2005-02-01   & 2005-02-03   &  2           &   27.5521477 &   12.9949062\\\\\n",
       "\\end{tabular}\n"
      ],
      "text/markdown": [
       "\n",
       "| UserID | FirstPo | LastPo | PObets | POwin | POstakes |\n",
       "|---|---|---|---|---|---|\n",
       "| 1324355      | 2005-06-12   | 2005-06-15   |  3           |   30.8295000 |    8.2593000 |\n",
       "| 1324368      | 2005-04-05   | 2005-05-30   | 23           | 9161.6582000 | 9620.8147000 |\n",
       "| 1324369      | 2005-03-03   | 2005-03-03   |  1           |    0.2949455 |    0.2949455 |\n",
       "| 1324371      | 2005-02-01   | 2005-02-10   |  4           |  122.6326185 |   65.3674456 |\n",
       "| 1324372      | 2005-09-02   | 2005-09-30   | 26           |  786.2004470 |  848.4530022 |\n",
       "| 1324377      | 2005-02-01   | 2005-02-03   |  2           |   27.5521477 |   12.9949062 |\n",
       "\n"
      ],
      "text/plain": [
       "  UserID  FirstPo    LastPo     PObets POwin        POstakes    \n",
       "1 1324355 2005-06-12 2005-06-15  3       30.8295000    8.2593000\n",
       "2 1324368 2005-04-05 2005-05-30 23     9161.6582000 9620.8147000\n",
       "3 1324369 2005-03-03 2005-03-03  1        0.2949455    0.2949455\n",
       "4 1324371 2005-02-01 2005-02-10  4      122.6326185   65.3674456\n",
       "5 1324372 2005-09-02 2005-09-30 26      786.2004470  848.4530022\n",
       "6 1324377 2005-02-01 2005-02-03  2       27.5521477   12.9949062"
      ]
     },
     "metadata": {},
     "output_type": "display_data"
    }
   ],
   "source": [
    "# Reading Poker Chip Conversions\n",
    "\n",
    "poker <- read_sas(\"RawDataIIIPokerChipConversions.sas7bdat\")\n",
    "poker$TransType <- mapvalues(poker$TransType, from=c(124,24), to=c('POwinnings', 'PObets'))\n",
    "poker$TransDateTime <- as.POSIXct(poker$TransDateTime, format='%Y-%m-%d')\n",
    "\n",
    "poker <- poker %>% filter(TransDateTime <= ymd(20050930) )\n",
    "\n",
    "poker_dates <- poker %>% select(-TransType, -TransAmount) %>% \n",
    "group_by(UserID) %>% \n",
    "transmute(FirstPo = first(TransDateTime), LastPo = last(TransDateTime), PObets = n_distinct(TransDateTime)) %>% \n",
    "distinct(UserID, .keep_all = TRUE)\n",
    "\n",
    "poker_win <- poker %>%  \n",
    "filter(TransType == 'POwinnings') %>% \n",
    "group_by(UserID) %>% \n",
    "transmute(POwin = sum(TransAmount)) %>%\n",
    "distinct(UserID, .keep_all = TRUE)\n",
    "\n",
    "poker_bet <- poker %>%  \n",
    "filter(TransType == 'PObets') %>% \n",
    "group_by(UserID) %>% \n",
    "transmute(POstakes = sum(TransAmount)) %>%\n",
    "distinct(UserID, .keep_all = TRUE)\n",
    "\n",
    "\n",
    "poker_merged <- dplyr::full_join(poker_dates, poker_win, by=\"UserID\")\n",
    "poker_merged <- dplyr::full_join(poker_merged, poker_bet, by=\"UserID\")\n",
    "poker_merged[(is.na(poker_merged))] <-0\n",
    "\n",
    "length(unique(poker_merged$UserID))\n",
    "length(poker_merged$UserID)\n",
    "head(poker_merged)"
   ]
  },
  {
   "cell_type": "code",
   "execution_count": 7,
   "metadata": {},
   "outputs": [
    {
     "data": {
      "text/html": [
       "<table>\n",
       "<thead><tr><th scope=col>UserID</th><th scope=col>all_2</th><th scope=col>all_3</th><th scope=col>all_4</th><th scope=col>all_5</th><th scope=col>all_6</th><th scope=col>all_7</th><th scope=col>all_8</th><th scope=col>all_9</th></tr></thead>\n",
       "<tbody>\n",
       "\t<tr><td>1324354  </td><td> 40.0000 </td><td>1814.1400</td><td>3781.63  </td><td>2975.5900</td><td>80.00    </td><td>0        </td><td>1908.28  </td><td>1376.9700</td></tr>\n",
       "\t<tr><td>1324355  </td><td> 81.0600 </td><td>  66.9400</td><td>  52.92  </td><td>  17.1500</td><td>51.96    </td><td>0        </td><td>  50.00  </td><td> 105.5300</td></tr>\n",
       "\t<tr><td>1324356  </td><td>116.9600 </td><td> 182.4100</td><td>   0.50  </td><td>   0.0000</td><td> 0.00    </td><td>0        </td><td> 639.34  </td><td> 426.0500</td></tr>\n",
       "\t<tr><td>1324358  </td><td>120.7323 </td><td>   0.0000</td><td>   0.00  </td><td> 215.5575</td><td> 0.00    </td><td>0        </td><td>   0.00  </td><td>   0.0000</td></tr>\n",
       "\t<tr><td>1324360  </td><td> 21.8407 </td><td>   5.7226</td><td>   0.00  </td><td>   0.0000</td><td> 0.00    </td><td>0        </td><td>   0.00  </td><td>  38.1794</td></tr>\n",
       "\t<tr><td>1324362  </td><td> 10.0000 </td><td>   0.0000</td><td>   0.00  </td><td>   0.0000</td><td> 0.00    </td><td>0        </td><td>   0.00  </td><td>  12.0000</td></tr>\n",
       "</tbody>\n",
       "</table>\n"
      ],
      "text/latex": [
       "\\begin{tabular}{r|lllllllll}\n",
       " UserID & all\\_2 & all\\_3 & all\\_4 & all\\_5 & all\\_6 & all\\_7 & all\\_8 & all\\_9\\\\\n",
       "\\hline\n",
       "\t 1324354   &  40.0000  & 1814.1400 & 3781.63   & 2975.5900 & 80.00     & 0         & 1908.28   & 1376.9700\\\\\n",
       "\t 1324355   &  81.0600  &   66.9400 &   52.92   &   17.1500 & 51.96     & 0         &   50.00   &  105.5300\\\\\n",
       "\t 1324356   & 116.9600  &  182.4100 &    0.50   &    0.0000 &  0.00     & 0         &  639.34   &  426.0500\\\\\n",
       "\t 1324358   & 120.7323  &    0.0000 &    0.00   &  215.5575 &  0.00     & 0         &    0.00   &    0.0000\\\\\n",
       "\t 1324360   &  21.8407  &    5.7226 &    0.00   &    0.0000 &  0.00     & 0         &    0.00   &   38.1794\\\\\n",
       "\t 1324362   &  10.0000  &    0.0000 &    0.00   &    0.0000 &  0.00     & 0         &    0.00   &   12.0000\\\\\n",
       "\\end{tabular}\n"
      ],
      "text/markdown": [
       "\n",
       "| UserID | all_2 | all_3 | all_4 | all_5 | all_6 | all_7 | all_8 | all_9 |\n",
       "|---|---|---|---|---|---|---|---|---|\n",
       "| 1324354   |  40.0000  | 1814.1400 | 3781.63   | 2975.5900 | 80.00     | 0         | 1908.28   | 1376.9700 |\n",
       "| 1324355   |  81.0600  |   66.9400 |   52.92   |   17.1500 | 51.96     | 0         |   50.00   |  105.5300 |\n",
       "| 1324356   | 116.9600  |  182.4100 |    0.50   |    0.0000 |  0.00     | 0         |  639.34   |  426.0500 |\n",
       "| 1324358   | 120.7323  |    0.0000 |    0.00   |  215.5575 |  0.00     | 0         |    0.00   |    0.0000 |\n",
       "| 1324360   |  21.8407  |    5.7226 |    0.00   |    0.0000 |  0.00     | 0         |    0.00   |   38.1794 |\n",
       "| 1324362   |  10.0000  |    0.0000 |    0.00   |    0.0000 |  0.00     | 0         |    0.00   |   12.0000 |\n",
       "\n"
      ],
      "text/plain": [
       "  UserID  all_2    all_3     all_4   all_5     all_6 all_7 all_8   all_9    \n",
       "1 1324354  40.0000 1814.1400 3781.63 2975.5900 80.00 0     1908.28 1376.9700\n",
       "2 1324355  81.0600   66.9400   52.92   17.1500 51.96 0       50.00  105.5300\n",
       "3 1324356 116.9600  182.4100    0.50    0.0000  0.00 0      639.34  426.0500\n",
       "4 1324358 120.7323    0.0000    0.00  215.5575  0.00 0        0.00    0.0000\n",
       "5 1324360  21.8407    5.7226    0.00    0.0000  0.00 0        0.00   38.1794\n",
       "6 1324362  10.0000    0.0000    0.00    0.0000  0.00 0        0.00   12.0000"
      ]
     },
     "metadata": {},
     "output_type": "display_data"
    },
    {
     "data": {
      "text/html": [
       "<table>\n",
       "<thead><tr><th scope=col>UserID</th><th scope=col>po_6</th><th scope=col>po_4</th><th scope=col>po_5</th><th scope=col>po_3</th><th scope=col>po_2</th><th scope=col>po_9</th><th scope=col>po_10</th><th scope=col>po_7</th><th scope=col>po_8</th></tr></thead>\n",
       "<tbody>\n",
       "\t<tr><td>1324355  </td><td>8.2593   </td><td>   0.000 </td><td>   0.000 </td><td>0.0000000</td><td> 0.00000 </td><td>  0.000  </td><td> 0.00000 </td><td>0        </td><td>0        </td></tr>\n",
       "\t<tr><td>1324368  </td><td>0.0000   </td><td>5035.346 </td><td>4585.469 </td><td>0.0000000</td><td> 0.00000 </td><td>  0.000  </td><td> 0.00000 </td><td>0        </td><td>0        </td></tr>\n",
       "\t<tr><td>1324369  </td><td>0.0000   </td><td>   0.000 </td><td>   0.000 </td><td>0.2949455</td><td> 0.00000 </td><td>  0.000  </td><td> 0.00000 </td><td>0        </td><td>0        </td></tr>\n",
       "\t<tr><td>1324371  </td><td>0.0000   </td><td>   0.000 </td><td>   0.000 </td><td>0.0000000</td><td>65.36745 </td><td>  0.000  </td><td> 0.00000 </td><td>0        </td><td>0        </td></tr>\n",
       "\t<tr><td>1324372  </td><td>0.0000   </td><td>   0.000 </td><td>   0.000 </td><td>0.0000000</td><td> 0.00000 </td><td>848.453  </td><td>69.96067 </td><td>0        </td><td>0        </td></tr>\n",
       "\t<tr><td>1324377  </td><td>0.0000   </td><td>   0.000 </td><td>   0.000 </td><td>0.0000000</td><td>12.99491 </td><td>  0.000  </td><td> 0.00000 </td><td>0        </td><td>0        </td></tr>\n",
       "</tbody>\n",
       "</table>\n"
      ],
      "text/latex": [
       "\\begin{tabular}{r|llllllllll}\n",
       " UserID & po\\_6 & po\\_4 & po\\_5 & po\\_3 & po\\_2 & po\\_9 & po\\_10 & po\\_7 & po\\_8\\\\\n",
       "\\hline\n",
       "\t 1324355   & 8.2593    &    0.000  &    0.000  & 0.0000000 &  0.00000  &   0.000   &  0.00000  & 0         & 0        \\\\\n",
       "\t 1324368   & 0.0000    & 5035.346  & 4585.469  & 0.0000000 &  0.00000  &   0.000   &  0.00000  & 0         & 0        \\\\\n",
       "\t 1324369   & 0.0000    &    0.000  &    0.000  & 0.2949455 &  0.00000  &   0.000   &  0.00000  & 0         & 0        \\\\\n",
       "\t 1324371   & 0.0000    &    0.000  &    0.000  & 0.0000000 & 65.36745  &   0.000   &  0.00000  & 0         & 0        \\\\\n",
       "\t 1324372   & 0.0000    &    0.000  &    0.000  & 0.0000000 &  0.00000  & 848.453   & 69.96067  & 0         & 0        \\\\\n",
       "\t 1324377   & 0.0000    &    0.000  &    0.000  & 0.0000000 & 12.99491  &   0.000   &  0.00000  & 0         & 0        \\\\\n",
       "\\end{tabular}\n"
      ],
      "text/markdown": [
       "\n",
       "| UserID | po_6 | po_4 | po_5 | po_3 | po_2 | po_9 | po_10 | po_7 | po_8 |\n",
       "|---|---|---|---|---|---|---|---|---|---|\n",
       "| 1324355   | 8.2593    |    0.000  |    0.000  | 0.0000000 |  0.00000  |   0.000   |  0.00000  | 0         | 0         |\n",
       "| 1324368   | 0.0000    | 5035.346  | 4585.469  | 0.0000000 |  0.00000  |   0.000   |  0.00000  | 0         | 0         |\n",
       "| 1324369   | 0.0000    |    0.000  |    0.000  | 0.2949455 |  0.00000  |   0.000   |  0.00000  | 0         | 0         |\n",
       "| 1324371   | 0.0000    |    0.000  |    0.000  | 0.0000000 | 65.36745  |   0.000   |  0.00000  | 0         | 0         |\n",
       "| 1324372   | 0.0000    |    0.000  |    0.000  | 0.0000000 |  0.00000  | 848.453   | 69.96067  | 0         | 0         |\n",
       "| 1324377   | 0.0000    |    0.000  |    0.000  | 0.0000000 | 12.99491  |   0.000   |  0.00000  | 0         | 0         |\n",
       "\n"
      ],
      "text/plain": [
       "  UserID  po_6   po_4     po_5     po_3      po_2     po_9    po_10    po_7\n",
       "1 1324355 8.2593    0.000    0.000 0.0000000  0.00000   0.000  0.00000 0   \n",
       "2 1324368 0.0000 5035.346 4585.469 0.0000000  0.00000   0.000  0.00000 0   \n",
       "3 1324369 0.0000    0.000    0.000 0.2949455  0.00000   0.000  0.00000 0   \n",
       "4 1324371 0.0000    0.000    0.000 0.0000000 65.36745   0.000  0.00000 0   \n",
       "5 1324372 0.0000    0.000    0.000 0.0000000  0.00000 848.453 69.96067 0   \n",
       "6 1324377 0.0000    0.000    0.000 0.0000000 12.99491   0.000  0.00000 0   \n",
       "  po_8\n",
       "1 0   \n",
       "2 0   \n",
       "3 0   \n",
       "4 0   \n",
       "5 0   \n",
       "6 0   "
      ]
     },
     "metadata": {},
     "output_type": "display_data"
    }
   ],
   "source": [
    "# Reading Poker Chip Conversions\n",
    "\n",
    "POmonth <- read_sas(\"RawDataIIIPokerChipConversions.sas7bdat\")\n",
    "POmonth$TransDateTime <- as.POSIXct(POmonth$TransDateTime, format='%Y-%m-%d')\n",
    "POmonth$month <- month(as.POSIXlt(POmonth$TransDateTime, format=\"%Y/%m/%d\"))\n",
    "POmonth$TransType <- mapvalues(POmonth$TransType, from=c(124,24), to=c('win', 'stakes'))\n",
    "\n",
    "POmonth <- POmonth %>% group_by(UserID)%>% filter(TransType == \"stakes\") %>% select(-TransDateTime,-TransType) %>% pivot_wider(names_from =month,  values_from =c(TransAmount), values_fn = {sum})\n",
    "POmonth[is.na(POmonth)] <- 0 \n",
    "colnames(POmonth) <- gsub(\" \", \"\",paste(\"po_\", colnames(POmonth)))\n",
    "POmonth <- rename(POmonth,c('UserID'='po_UserID'))\n",
    "\n",
    "\n",
    "allmonth <- read_sas(\"RawDataIIUserDailyAggregation.sas7bdat\")\n",
    "allmonth$Date <- ymd(allmonth$Date)\n",
    "allmonth$month <- month(as.POSIXlt(allmonth$Date, format=\"%Y/%m/%d\"))\n",
    "\n",
    "allmonth <- allmonth %>% group_by(UserID) %>% select(-Bets, -ProductID, -Winnings, -Date) %>% pivot_wider(names_from =month,  values_from =c(Stakes), values_fn = {sum})\n",
    "allmonth[is.na(allmonth)] <- 0 \n",
    "colnames(allmonth) <- gsub(\" \", \"\",paste(\"all_\", colnames(allmonth)))\n",
    "allmonth <- rename(allmonth,c('UserID'='all_UserID'))\n",
    "\n",
    "head(allmonth)\n",
    "\n",
    "head(POmonth)"
   ]
  },
  {
   "cell_type": "code",
   "execution_count": 8,
   "metadata": {},
   "outputs": [
    {
     "data": {
      "text/html": [
       "<table>\n",
       "<thead><tr><th scope=col>UserID</th><th scope=col>February</th><th scope=col>March</th><th scope=col>April</th><th scope=col>May</th><th scope=col>June</th><th scope=col>July</th><th scope=col>August</th><th scope=col>September</th></tr></thead>\n",
       "<tbody>\n",
       "\t<tr><td>1324354  </td><td> 40.0000 </td><td>1814.1400</td><td>3781.63  </td><td>2975.5900</td><td>80.0000  </td><td>0        </td><td>1908.28  </td><td>1376.9700</td></tr>\n",
       "\t<tr><td>1324355  </td><td> 81.0600 </td><td>  66.9400</td><td>  52.92  </td><td>  17.1500</td><td>60.2193  </td><td>0        </td><td>  50.00  </td><td> 105.5300</td></tr>\n",
       "\t<tr><td>1324356  </td><td>116.9600 </td><td> 182.4100</td><td>   0.50  </td><td>   0.0000</td><td> 0.0000  </td><td>0        </td><td> 639.34  </td><td> 426.0500</td></tr>\n",
       "\t<tr><td>1324358  </td><td>120.7323 </td><td>   0.0000</td><td>   0.00  </td><td> 215.5575</td><td> 0.0000  </td><td>0        </td><td>   0.00  </td><td>   0.0000</td></tr>\n",
       "\t<tr><td>1324360  </td><td> 21.8407 </td><td>   5.7226</td><td>   0.00  </td><td>   0.0000</td><td> 0.0000  </td><td>0        </td><td>   0.00  </td><td>  38.1794</td></tr>\n",
       "\t<tr><td>1324362  </td><td> 10.0000 </td><td>   0.0000</td><td>   0.00  </td><td>   0.0000</td><td> 0.0000  </td><td>0        </td><td>   0.00  </td><td>  12.0000</td></tr>\n",
       "</tbody>\n",
       "</table>\n"
      ],
      "text/latex": [
       "\\begin{tabular}{r|lllllllll}\n",
       " UserID & February & March & April & May & June & July & August & September\\\\\n",
       "\\hline\n",
       "\t 1324354   &  40.0000  & 1814.1400 & 3781.63   & 2975.5900 & 80.0000   & 0         & 1908.28   & 1376.9700\\\\\n",
       "\t 1324355   &  81.0600  &   66.9400 &   52.92   &   17.1500 & 60.2193   & 0         &   50.00   &  105.5300\\\\\n",
       "\t 1324356   & 116.9600  &  182.4100 &    0.50   &    0.0000 &  0.0000   & 0         &  639.34   &  426.0500\\\\\n",
       "\t 1324358   & 120.7323  &    0.0000 &    0.00   &  215.5575 &  0.0000   & 0         &    0.00   &    0.0000\\\\\n",
       "\t 1324360   &  21.8407  &    5.7226 &    0.00   &    0.0000 &  0.0000   & 0         &    0.00   &   38.1794\\\\\n",
       "\t 1324362   &  10.0000  &    0.0000 &    0.00   &    0.0000 &  0.0000   & 0         &    0.00   &   12.0000\\\\\n",
       "\\end{tabular}\n"
      ],
      "text/markdown": [
       "\n",
       "| UserID | February | March | April | May | June | July | August | September |\n",
       "|---|---|---|---|---|---|---|---|---|\n",
       "| 1324354   |  40.0000  | 1814.1400 | 3781.63   | 2975.5900 | 80.0000   | 0         | 1908.28   | 1376.9700 |\n",
       "| 1324355   |  81.0600  |   66.9400 |   52.92   |   17.1500 | 60.2193   | 0         |   50.00   |  105.5300 |\n",
       "| 1324356   | 116.9600  |  182.4100 |    0.50   |    0.0000 |  0.0000   | 0         |  639.34   |  426.0500 |\n",
       "| 1324358   | 120.7323  |    0.0000 |    0.00   |  215.5575 |  0.0000   | 0         |    0.00   |    0.0000 |\n",
       "| 1324360   |  21.8407  |    5.7226 |    0.00   |    0.0000 |  0.0000   | 0         |    0.00   |   38.1794 |\n",
       "| 1324362   |  10.0000  |    0.0000 |    0.00   |    0.0000 |  0.0000   | 0         |    0.00   |   12.0000 |\n",
       "\n"
      ],
      "text/plain": [
       "  UserID  February March     April   May       June    July August  September\n",
       "1 1324354  40.0000 1814.1400 3781.63 2975.5900 80.0000 0    1908.28 1376.9700\n",
       "2 1324355  81.0600   66.9400   52.92   17.1500 60.2193 0      50.00  105.5300\n",
       "3 1324356 116.9600  182.4100    0.50    0.0000  0.0000 0     639.34  426.0500\n",
       "4 1324358 120.7323    0.0000    0.00  215.5575  0.0000 0       0.00    0.0000\n",
       "5 1324360  21.8407    5.7226    0.00    0.0000  0.0000 0       0.00   38.1794\n",
       "6 1324362  10.0000    0.0000    0.00    0.0000  0.0000 0       0.00   12.0000"
      ]
     },
     "metadata": {},
     "output_type": "display_data"
    }
   ],
   "source": [
    "# Calculating Total Stakes Per Month\n",
    "\n",
    "totalstakesmonth <- dplyr::full_join(allmonth, POmonth, by='UserID')\n",
    "totalstakesmonth[is.na(totalstakesmonth)] <- 0 \n",
    "totalstakesmonth <- totalstakesmonth %>% group_by(UserID) %>% transmute(February= all_2+po_2, March=all_3+po_3, April = all_4+po_4, May= all_5 +po_5, June=all_6+po_6, July=all_7+po_7, August=all_8+po_8, September=all_9+po_9)\n",
    "head(totalstakesmonth)"
   ]
  },
  {
   "cell_type": "code",
   "execution_count": 9,
   "metadata": {
    "scrolled": true
   },
   "outputs": [
    {
     "name": "stderr",
     "output_type": "stream",
     "text": [
      "The following `from` values were not present in `x`: 3\n"
     ]
    },
    {
     "data": {
      "text/html": [
       "<table>\n",
       "<thead><tr><th scope=col>UserID</th><th scope=col>FOTotalStakes</th><th scope=col>LATotalStakes</th><th scope=col>CasinoChartwellTotalStakes</th><th scope=col>VSTotalStakes</th><th scope=col>BwinTotalStakes</th><th scope=col>CasinoBossMediTotalStakes</th><th scope=col>SupertotoTotalStakes</th><th scope=col>FOTotalWinnings</th><th scope=col>LATotalWinnings</th><th scope=col>...</th><th scope=col>BwinTotalWinnings</th><th scope=col>CasinoBossMediaTotalWinnings</th><th scope=col>SupertotoTotalWinnings</th><th scope=col>FOTotalBets</th><th scope=col>LATotalBets</th><th scope=col>CasinoChartwellTotalBets</th><th scope=col>VSTotalBets</th><th scope=col>BwinTotalBets</th><th scope=col>CasinoBossMediaTotalBets</th><th scope=col>SupertotoTotalBets</th></tr></thead>\n",
       "<tbody>\n",
       "\t<tr><td>1324354   </td><td>10137.3300</td><td>1839.2800 </td><td>0         </td><td>0         </td><td>0         </td><td>0         </td><td>0         </td><td>10224.1200</td><td>1512.4900 </td><td>...       </td><td>0         </td><td>0         </td><td>0         </td><td>236       </td><td> 43       </td><td>0         </td><td>0         </td><td>0         </td><td>0         </td><td>0         </td></tr>\n",
       "\t<tr><td>1324355   </td><td>  400.8600</td><td>  24.7000 </td><td>0         </td><td>0         </td><td>0         </td><td>0         </td><td>0         </td><td>  453.3000</td><td>  11.2000 </td><td>...       </td><td>0         </td><td>0         </td><td>0         </td><td>231       </td><td> 21       </td><td>0         </td><td>0         </td><td>0         </td><td>0         </td><td>0         </td></tr>\n",
       "\t<tr><td>1324356   </td><td>  686.1900</td><td> 679.0700 </td><td>0         </td><td>0         </td><td>0         </td><td>0         </td><td>0         </td><td>  285.5100</td><td> 625.1500 </td><td>...       </td><td>0         </td><td>0         </td><td>0         </td><td> 98       </td><td>116       </td><td>0         </td><td>0         </td><td>0         </td><td>0         </td><td>0         </td></tr>\n",
       "\t<tr><td>1324358   </td><td>  247.6971</td><td>  88.5927 </td><td>0         </td><td>0         </td><td>0         </td><td>0         </td><td>0         </td><td>  153.8756</td><td>  55.9819 </td><td>...       </td><td>0         </td><td>0         </td><td>0         </td><td>  7       </td><td>  4       </td><td>0         </td><td>0         </td><td>0         </td><td>0         </td><td>0         </td></tr>\n",
       "\t<tr><td>1324360   </td><td>   59.9993</td><td>   1.7434 </td><td>4         </td><td>0         </td><td>0         </td><td>0         </td><td>0         </td><td>   39.9564</td><td>   1.2009 </td><td>...       </td><td>0         </td><td>0         </td><td>0         </td><td> 40       </td><td>  3       </td><td>4         </td><td>0         </td><td>0         </td><td>0         </td><td>0         </td></tr>\n",
       "\t<tr><td>1324362   </td><td>   22.0000</td><td>   0.0000 </td><td>0         </td><td>0         </td><td>0         </td><td>0         </td><td>0         </td><td>    0.0000</td><td>   0.0000 </td><td>...       </td><td>0         </td><td>0         </td><td>0         </td><td>  7       </td><td>  0       </td><td>0         </td><td>0         </td><td>0         </td><td>0         </td><td>0         </td></tr>\n",
       "</tbody>\n",
       "</table>\n"
      ],
      "text/latex": [
       "\\begin{tabular}{r|llllllllllllllllllllll}\n",
       " UserID & FOTotalStakes & LATotalStakes & CasinoChartwellTotalStakes & VSTotalStakes & BwinTotalStakes & CasinoBossMediTotalStakes & SupertotoTotalStakes & FOTotalWinnings & LATotalWinnings & ... & BwinTotalWinnings & CasinoBossMediaTotalWinnings & SupertotoTotalWinnings & FOTotalBets & LATotalBets & CasinoChartwellTotalBets & VSTotalBets & BwinTotalBets & CasinoBossMediaTotalBets & SupertotoTotalBets\\\\\n",
       "\\hline\n",
       "\t 1324354    & 10137.3300 & 1839.2800  & 0          & 0          & 0          & 0          & 0          & 10224.1200 & 1512.4900  & ...        & 0          & 0          & 0          & 236        &  43        & 0          & 0          & 0          & 0          & 0         \\\\\n",
       "\t 1324355    &   400.8600 &   24.7000  & 0          & 0          & 0          & 0          & 0          &   453.3000 &   11.2000  & ...        & 0          & 0          & 0          & 231        &  21        & 0          & 0          & 0          & 0          & 0         \\\\\n",
       "\t 1324356    &   686.1900 &  679.0700  & 0          & 0          & 0          & 0          & 0          &   285.5100 &  625.1500  & ...        & 0          & 0          & 0          &  98        & 116        & 0          & 0          & 0          & 0          & 0         \\\\\n",
       "\t 1324358    &   247.6971 &   88.5927  & 0          & 0          & 0          & 0          & 0          &   153.8756 &   55.9819  & ...        & 0          & 0          & 0          &   7        &   4        & 0          & 0          & 0          & 0          & 0         \\\\\n",
       "\t 1324360    &    59.9993 &    1.7434  & 4          & 0          & 0          & 0          & 0          &    39.9564 &    1.2009  & ...        & 0          & 0          & 0          &  40        &   3        & 4          & 0          & 0          & 0          & 0         \\\\\n",
       "\t 1324362    &    22.0000 &    0.0000  & 0          & 0          & 0          & 0          & 0          &     0.0000 &    0.0000  & ...        & 0          & 0          & 0          &   7        &   0        & 0          & 0          & 0          & 0          & 0         \\\\\n",
       "\\end{tabular}\n"
      ],
      "text/markdown": [
       "\n",
       "| UserID | FOTotalStakes | LATotalStakes | CasinoChartwellTotalStakes | VSTotalStakes | BwinTotalStakes | CasinoBossMediTotalStakes | SupertotoTotalStakes | FOTotalWinnings | LATotalWinnings | ... | BwinTotalWinnings | CasinoBossMediaTotalWinnings | SupertotoTotalWinnings | FOTotalBets | LATotalBets | CasinoChartwellTotalBets | VSTotalBets | BwinTotalBets | CasinoBossMediaTotalBets | SupertotoTotalBets |\n",
       "|---|---|---|---|---|---|---|---|---|---|---|---|---|---|---|---|---|---|---|---|---|\n",
       "| 1324354    | 10137.3300 | 1839.2800  | 0          | 0          | 0          | 0          | 0          | 10224.1200 | 1512.4900  | ...        | 0          | 0          | 0          | 236        |  43        | 0          | 0          | 0          | 0          | 0          |\n",
       "| 1324355    |   400.8600 |   24.7000  | 0          | 0          | 0          | 0          | 0          |   453.3000 |   11.2000  | ...        | 0          | 0          | 0          | 231        |  21        | 0          | 0          | 0          | 0          | 0          |\n",
       "| 1324356    |   686.1900 |  679.0700  | 0          | 0          | 0          | 0          | 0          |   285.5100 |  625.1500  | ...        | 0          | 0          | 0          |  98        | 116        | 0          | 0          | 0          | 0          | 0          |\n",
       "| 1324358    |   247.6971 |   88.5927  | 0          | 0          | 0          | 0          | 0          |   153.8756 |   55.9819  | ...        | 0          | 0          | 0          |   7        |   4        | 0          | 0          | 0          | 0          | 0          |\n",
       "| 1324360    |    59.9993 |    1.7434  | 4          | 0          | 0          | 0          | 0          |    39.9564 |    1.2009  | ...        | 0          | 0          | 0          |  40        |   3        | 4          | 0          | 0          | 0          | 0          |\n",
       "| 1324362    |    22.0000 |    0.0000  | 0          | 0          | 0          | 0          | 0          |     0.0000 |    0.0000  | ...        | 0          | 0          | 0          |   7        |   0        | 0          | 0          | 0          | 0          | 0          |\n",
       "\n"
      ],
      "text/plain": [
       "  UserID  FOTotalStakes LATotalStakes CasinoChartwellTotalStakes VSTotalStakes\n",
       "1 1324354 10137.3300    1839.2800     0                          0            \n",
       "2 1324355   400.8600      24.7000     0                          0            \n",
       "3 1324356   686.1900     679.0700     0                          0            \n",
       "4 1324358   247.6971      88.5927     0                          0            \n",
       "5 1324360    59.9993       1.7434     4                          0            \n",
       "6 1324362    22.0000       0.0000     0                          0            \n",
       "  BwinTotalStakes CasinoBossMediTotalStakes SupertotoTotalStakes\n",
       "1 0               0                         0                   \n",
       "2 0               0                         0                   \n",
       "3 0               0                         0                   \n",
       "4 0               0                         0                   \n",
       "5 0               0                         0                   \n",
       "6 0               0                         0                   \n",
       "  FOTotalWinnings LATotalWinnings ... BwinTotalWinnings\n",
       "1 10224.1200      1512.4900       ... 0                \n",
       "2   453.3000        11.2000       ... 0                \n",
       "3   285.5100       625.1500       ... 0                \n",
       "4   153.8756        55.9819       ... 0                \n",
       "5    39.9564         1.2009       ... 0                \n",
       "6     0.0000         0.0000       ... 0                \n",
       "  CasinoBossMediaTotalWinnings SupertotoTotalWinnings FOTotalBets LATotalBets\n",
       "1 0                            0                      236          43        \n",
       "2 0                            0                      231          21        \n",
       "3 0                            0                       98         116        \n",
       "4 0                            0                        7           4        \n",
       "5 0                            0                       40           3        \n",
       "6 0                            0                        7           0        \n",
       "  CasinoChartwellTotalBets VSTotalBets BwinTotalBets CasinoBossMediaTotalBets\n",
       "1 0                        0           0             0                       \n",
       "2 0                        0           0             0                       \n",
       "3 0                        0           0             0                       \n",
       "4 0                        0           0             0                       \n",
       "5 4                        0           0             0                       \n",
       "6 0                        0           0             0                       \n",
       "  SupertotoTotalBets\n",
       "1 0                 \n",
       "2 0                 \n",
       "3 0                 \n",
       "4 0                 \n",
       "5 0                 \n",
       "6 0                 "
      ]
     },
     "metadata": {},
     "output_type": "display_data"
    },
    {
     "data": {
      "text/html": [
       "43851"
      ],
      "text/latex": [
       "43851"
      ],
      "text/markdown": [
       "43851"
      ],
      "text/plain": [
       "[1] 43851"
      ]
     },
     "metadata": {},
     "output_type": "display_data"
    }
   ],
   "source": [
    "# Reading User Daily Aggregation\n",
    "\n",
    "daily <- read_sas(\"RawDataIIUserDailyAggregation.sas7bdat\")\n",
    "daily$ProductID <- mapvalues(daily$ProductID, from=c(1,2,3,4,5,6,7,8), to=c(\"Sports book fixed-odd\",\"Sports book live-action\",\"Poker BossMedia\",\"Casino BossMedia\",\"Supertoto\",\"Games VS\",\"Games bwin\",\"Casino Chartwell\"))\n",
    "daily <- rename(daily,c('Product'='ProductID'))\n",
    "\n",
    "daily$Date <- ymd(daily$Date)\n",
    "daily <- daily %>% \n",
    "select(-Date) %>% group_by(UserID) %>% \n",
    "pivot_wider(names_from =Product,  values_from =c(Stakes, Winnings, Bets), values_fn = {sum})\n",
    "daily[(is.na(daily))] <- 0\n",
    "daily <- rename(daily,c('FOTotalStakes'='Stakes_Sports book fixed-odd'))\n",
    "names(daily) <- c('UserID','FOTotalStakes','LATotalStakes','CasinoChartwellTotalStakes','VSTotalStakes','BwinTotalStakes', 'CasinoBossMediTotalStakes', 'SupertotoTotalStakes', 'FOTotalWinnings', 'LATotalWinnings', 'CasinoChartwellTotalWinnings', 'VSTotalWinnings', 'BwinTotalWinnings', 'CasinoBossMediaTotalWinnings', 'SupertotoTotalWinnings', 'FOTotalBets', 'LATotalBets', 'CasinoChartwellTotalBets', 'VSTotalBets', 'BwinTotalBets', 'CasinoBossMediaTotalBets', 'SupertotoTotalBets')\n",
    "\n",
    "\n",
    "head(daily)\n",
    "length(unique(daily$UserID))"
   ]
  },
  {
   "cell_type": "code",
   "execution_count": 10,
   "metadata": {},
   "outputs": [
    {
     "data": {
      "text/html": [
       "<ol class=list-inline>\n",
       "\t<li>'UserID'</li>\n",
       "\t<li>'FOTotalStakes'</li>\n",
       "\t<li>'LATotalStakes'</li>\n",
       "\t<li>'CasinoChartwellTotalStakes'</li>\n",
       "\t<li>'VSTotalStakes'</li>\n",
       "\t<li>'BwinTotalStakes'</li>\n",
       "\t<li>'CasinoBossMediTotalStakes'</li>\n",
       "\t<li>'SupertotoTotalStakes'</li>\n",
       "\t<li>'FOTotalWinnings'</li>\n",
       "\t<li>'LATotalWinnings'</li>\n",
       "\t<li>'CasinoChartwellTotalWinnings'</li>\n",
       "\t<li>'VSTotalWinnings'</li>\n",
       "\t<li>'BwinTotalWinnings'</li>\n",
       "\t<li>'CasinoBossMediaTotalWinnings'</li>\n",
       "\t<li>'SupertotoTotalWinnings'</li>\n",
       "\t<li>'FOTotalBets'</li>\n",
       "\t<li>'LATotalBets'</li>\n",
       "\t<li>'CasinoChartwellTotalBets'</li>\n",
       "\t<li>'VSTotalBets'</li>\n",
       "\t<li>'BwinTotalBets'</li>\n",
       "\t<li>'CasinoBossMediaTotalBets'</li>\n",
       "\t<li>'SupertotoTotalBets'</li>\n",
       "</ol>\n"
      ],
      "text/latex": [
       "\\begin{enumerate*}\n",
       "\\item 'UserID'\n",
       "\\item 'FOTotalStakes'\n",
       "\\item 'LATotalStakes'\n",
       "\\item 'CasinoChartwellTotalStakes'\n",
       "\\item 'VSTotalStakes'\n",
       "\\item 'BwinTotalStakes'\n",
       "\\item 'CasinoBossMediTotalStakes'\n",
       "\\item 'SupertotoTotalStakes'\n",
       "\\item 'FOTotalWinnings'\n",
       "\\item 'LATotalWinnings'\n",
       "\\item 'CasinoChartwellTotalWinnings'\n",
       "\\item 'VSTotalWinnings'\n",
       "\\item 'BwinTotalWinnings'\n",
       "\\item 'CasinoBossMediaTotalWinnings'\n",
       "\\item 'SupertotoTotalWinnings'\n",
       "\\item 'FOTotalBets'\n",
       "\\item 'LATotalBets'\n",
       "\\item 'CasinoChartwellTotalBets'\n",
       "\\item 'VSTotalBets'\n",
       "\\item 'BwinTotalBets'\n",
       "\\item 'CasinoBossMediaTotalBets'\n",
       "\\item 'SupertotoTotalBets'\n",
       "\\end{enumerate*}\n"
      ],
      "text/markdown": [
       "1. 'UserID'\n",
       "2. 'FOTotalStakes'\n",
       "3. 'LATotalStakes'\n",
       "4. 'CasinoChartwellTotalStakes'\n",
       "5. 'VSTotalStakes'\n",
       "6. 'BwinTotalStakes'\n",
       "7. 'CasinoBossMediTotalStakes'\n",
       "8. 'SupertotoTotalStakes'\n",
       "9. 'FOTotalWinnings'\n",
       "10. 'LATotalWinnings'\n",
       "11. 'CasinoChartwellTotalWinnings'\n",
       "12. 'VSTotalWinnings'\n",
       "13. 'BwinTotalWinnings'\n",
       "14. 'CasinoBossMediaTotalWinnings'\n",
       "15. 'SupertotoTotalWinnings'\n",
       "16. 'FOTotalBets'\n",
       "17. 'LATotalBets'\n",
       "18. 'CasinoChartwellTotalBets'\n",
       "19. 'VSTotalBets'\n",
       "20. 'BwinTotalBets'\n",
       "21. 'CasinoBossMediaTotalBets'\n",
       "22. 'SupertotoTotalBets'\n",
       "\n",
       "\n"
      ],
      "text/plain": [
       " [1] \"UserID\"                       \"FOTotalStakes\"               \n",
       " [3] \"LATotalStakes\"                \"CasinoChartwellTotalStakes\"  \n",
       " [5] \"VSTotalStakes\"                \"BwinTotalStakes\"             \n",
       " [7] \"CasinoBossMediTotalStakes\"    \"SupertotoTotalStakes\"        \n",
       " [9] \"FOTotalWinnings\"              \"LATotalWinnings\"             \n",
       "[11] \"CasinoChartwellTotalWinnings\" \"VSTotalWinnings\"             \n",
       "[13] \"BwinTotalWinnings\"            \"CasinoBossMediaTotalWinnings\"\n",
       "[15] \"SupertotoTotalWinnings\"       \"FOTotalBets\"                 \n",
       "[17] \"LATotalBets\"                  \"CasinoChartwellTotalBets\"    \n",
       "[19] \"VSTotalBets\"                  \"BwinTotalBets\"               \n",
       "[21] \"CasinoBossMediaTotalBets\"     \"SupertotoTotalBets\"          "
      ]
     },
     "metadata": {},
     "output_type": "display_data"
    }
   ],
   "source": [
    "# Checking column names\n",
    "\n",
    "colnames(daily)"
   ]
  },
  {
   "cell_type": "code",
   "execution_count": 11,
   "metadata": {},
   "outputs": [
    {
     "name": "stderr",
     "output_type": "stream",
     "text": [
      "Adding missing grouping variables: `UserID`\n",
      "Adding missing grouping variables: `UserID`\n",
      "Adding missing grouping variables: `UserID`\n"
     ]
    },
    {
     "data": {
      "text/html": [
       "<table>\n",
       "<thead><tr><th scope=col>UserID</th><th scope=col>SPbets</th><th scope=col>SPstakes</th><th scope=col>SPwin</th><th scope=col>GAbets</th><th scope=col>GAstakes</th><th scope=col>GAwin</th><th scope=col>CAbets</th><th scope=col>CAstakes</th><th scope=col>CAwin</th></tr></thead>\n",
       "<tbody>\n",
       "\t<tr><td>1324354 </td><td>279     </td><td>11976.61</td><td>11736.61</td><td>0       </td><td>0       </td><td>0       </td><td>0       </td><td>0       </td><td>0       </td></tr>\n",
       "\t<tr><td>1324355 </td><td>252     </td><td>  425.56</td><td>  464.50</td><td>0       </td><td>0       </td><td>0       </td><td>0       </td><td>0       </td><td>0       </td></tr>\n",
       "\t<tr><td>1324356 </td><td>214     </td><td> 1365.26</td><td>  910.66</td><td>0       </td><td>0       </td><td>0       </td><td>0       </td><td>0       </td><td>0       </td></tr>\n",
       "</tbody>\n",
       "</table>\n"
      ],
      "text/latex": [
       "\\begin{tabular}{r|llllllllll}\n",
       " UserID & SPbets & SPstakes & SPwin & GAbets & GAstakes & GAwin & CAbets & CAstakes & CAwin\\\\\n",
       "\\hline\n",
       "\t 1324354  & 279      & 11976.61 & 11736.61 & 0        & 0        & 0        & 0        & 0        & 0       \\\\\n",
       "\t 1324355  & 252      &   425.56 &   464.50 & 0        & 0        & 0        & 0        & 0        & 0       \\\\\n",
       "\t 1324356  & 214      &  1365.26 &   910.66 & 0        & 0        & 0        & 0        & 0        & 0       \\\\\n",
       "\\end{tabular}\n"
      ],
      "text/markdown": [
       "\n",
       "| UserID | SPbets | SPstakes | SPwin | GAbets | GAstakes | GAwin | CAbets | CAstakes | CAwin |\n",
       "|---|---|---|---|---|---|---|---|---|---|\n",
       "| 1324354  | 279      | 11976.61 | 11736.61 | 0        | 0        | 0        | 0        | 0        | 0        |\n",
       "| 1324355  | 252      |   425.56 |   464.50 | 0        | 0        | 0        | 0        | 0        | 0        |\n",
       "| 1324356  | 214      |  1365.26 |   910.66 | 0        | 0        | 0        | 0        | 0        | 0        |\n",
       "\n"
      ],
      "text/plain": [
       "  UserID  SPbets SPstakes SPwin    GAbets GAstakes GAwin CAbets CAstakes CAwin\n",
       "1 1324354 279    11976.61 11736.61 0      0        0     0      0        0    \n",
       "2 1324355 252      425.56   464.50 0      0        0     0      0        0    \n",
       "3 1324356 214     1365.26   910.66 0      0        0     0      0        0    "
      ]
     },
     "metadata": {},
     "output_type": "display_data"
    }
   ],
   "source": [
    "# Creating SPdaily, GAdaily, CAdail & Categories\n",
    "\n",
    "Spdaily <- daily %>% select(FOTotalStakes, LATotalStakes, FOTotalWinnings, LATotalWinnings, FOTotalBets, LATotalBets) %>%\n",
    "group_by(UserID) %>%\n",
    "transmute(SPbets=  FOTotalBets+ LATotalBets, SPstakes =FOTotalStakes+ LATotalStakes, SPwin= FOTotalWinnings+ LATotalWinnings)\n",
    "\n",
    "GAdaily <- daily %>% select(BwinTotalStakes, SupertotoTotalStakes, BwinTotalBets, SupertotoTotalBets, BwinTotalWinnings, SupertotoTotalWinnings, VSTotalStakes, VSTotalWinnings, VSTotalBets) %>%\n",
    "group_by(UserID) %>%\n",
    "transmute(GAbets= BwinTotalBets+ SupertotoTotalBets +VSTotalBets, GAstakes =BwinTotalStakes+SupertotoTotalStakes+VSTotalStakes, GAwin= BwinTotalWinnings + SupertotoTotalWinnings + VSTotalWinnings)\n",
    "\n",
    "CAdaily <- daily %>% select(CasinoChartwellTotalBets, CasinoBossMediaTotalBets, CasinoBossMediTotalStakes, CasinoChartwellTotalStakes, CasinoChartwellTotalWinnings, CasinoBossMediaTotalWinnings) %>%\n",
    "group_by(UserID) %>%\n",
    "transmute(CAbets= CasinoChartwellTotalBets +CasinoBossMediaTotalBets, CAstakes =CasinoBossMediTotalStakes+ CasinoChartwellTotalStakes, CAwin= CasinoChartwellTotalWinnings +CasinoBossMediaTotalWinnings)\n",
    "\n",
    "categories <- dplyr::inner_join(Spdaily, GAdaily, by=\"UserID\")\n",
    "categories <- dplyr::inner_join(categories, CAdaily, by=\"UserID\")\n",
    "\n",
    "#head(CAdaily,3)\n",
    "#head(GAdaily,3)\n",
    "#head(Spdaily,3)\n",
    "head(categories,3)"
   ]
  },
  {
   "cell_type": "code",
   "execution_count": 12,
   "metadata": {
    "scrolled": false
   },
   "outputs": [
    {
     "name": "stderr",
     "output_type": "stream",
     "text": [
      "The following `from` values were not present in `x`: 3\n",
      "The following `from` values were not present in `x`: 3\n"
     ]
    },
    {
     "data": {
      "text/html": [
       "<table>\n",
       "<thead><tr><th scope=col>UserID</th><th scope=col>LastSp</th><th scope=col>LastCa</th><th scope=col>LastGa</th><th scope=col>FirstSp</th><th scope=col>FirstCa</th><th scope=col>FirstGa</th></tr></thead>\n",
       "<tbody>\n",
       "\t<tr><td>1324354   </td><td>2005-09-30</td><td>NA        </td><td>NA        </td><td>2005-02-24</td><td>NA        </td><td>NA        </td></tr>\n",
       "\t<tr><td>1324355   </td><td>2005-09-29</td><td>NA        </td><td>NA        </td><td>2005-02-01</td><td>NA        </td><td>NA        </td></tr>\n",
       "\t<tr><td>1324356   </td><td>2005-09-12</td><td>NA        </td><td>NA        </td><td>2005-02-02</td><td>NA        </td><td>NA        </td></tr>\n",
       "</tbody>\n",
       "</table>\n"
      ],
      "text/latex": [
       "\\begin{tabular}{r|lllllll}\n",
       " UserID & LastSp & LastCa & LastGa & FirstSp & FirstCa & FirstGa\\\\\n",
       "\\hline\n",
       "\t 1324354    & 2005-09-30 & NA         & NA         & 2005-02-24 & NA         & NA        \\\\\n",
       "\t 1324355    & 2005-09-29 & NA         & NA         & 2005-02-01 & NA         & NA        \\\\\n",
       "\t 1324356    & 2005-09-12 & NA         & NA         & 2005-02-02 & NA         & NA        \\\\\n",
       "\\end{tabular}\n"
      ],
      "text/markdown": [
       "\n",
       "| UserID | LastSp | LastCa | LastGa | FirstSp | FirstCa | FirstGa |\n",
       "|---|---|---|---|---|---|---|\n",
       "| 1324354    | 2005-09-30 | NA         | NA         | 2005-02-24 | NA         | NA         |\n",
       "| 1324355    | 2005-09-29 | NA         | NA         | 2005-02-01 | NA         | NA         |\n",
       "| 1324356    | 2005-09-12 | NA         | NA         | 2005-02-02 | NA         | NA         |\n",
       "\n"
      ],
      "text/plain": [
       "  UserID  LastSp     LastCa LastGa FirstSp    FirstCa FirstGa\n",
       "1 1324354 2005-09-30 <NA>   <NA>   2005-02-24 <NA>    <NA>   \n",
       "2 1324355 2005-09-29 <NA>   <NA>   2005-02-01 <NA>    <NA>   \n",
       "3 1324356 2005-09-12 <NA>   <NA>   2005-02-02 <NA>    <NA>   "
      ]
     },
     "metadata": {},
     "output_type": "display_data"
    }
   ],
   "source": [
    "daily_first_date <- read_sas(\"RawDataIIUserDailyAggregation.sas7bdat\")\n",
    "daily_first_date$ProductID <- mapvalues(daily_first_date$ProductID, from=c(1,2,3,4,5,6,7,8), to=c('FirstSp','FirstSp','FirstPo','FirstCa','FirstGa','FirstGa','FirstGa','FirstCa'))\n",
    "types_of_games <- unique(daily_first_date$ProductID)\n",
    "daily_first_date <- daily_first_date %>% filter(Date <= 20050901)\n",
    "daily_first_date$Date <- ymd(daily_first_date$Date)\n",
    "daily_first_date <- daily_first_date %>% select(-Stakes,-Winnings, -Bets)\n",
    "daily_first_date <- daily_first_date %>% group_by(UserID) %>%  pivot_wider(names_from = ProductID, values_from = Date, values_fn = {first})\n",
    "\n",
    "daily_last_date <- read_sas(\"RawDataIIUserDailyAggregation.sas7bdat\")\n",
    "daily_last_date$ProductID <- mapvalues(daily_last_date$ProductID, from=c(1,2,3,4,5,6,7,8), to=c('LastSp','LastSp','LastPo','LastCa','LastGa','LastGa','LastGa','LastCa'))\n",
    "types_of_games <- unique(daily_last_date$ProductID)\n",
    "daily_last_date$Date <- ymd(daily_last_date$Date)\n",
    "daily_last_date <- daily_last_date %>% select(-Stakes,-Winnings, -Bets)\n",
    "daily_last_date <- daily_last_date %>% group_by(UserID) %>%  pivot_wider(names_from = ProductID, values_from = Date, values_fn = {last})\n",
    "\n",
    "#merge\n",
    "categories_dates <- dplyr::inner_join(daily_last_date, daily_first_date, by=\"UserID\")\n",
    "\n",
    "head(categories_dates,3)\n"
   ]
  },
  {
   "cell_type": "code",
   "execution_count": 12,
   "metadata": {},
   "outputs": [
    {
     "ename": "ERROR",
     "evalue": "Error in is.data.frame(y): object 'categories_dates' not found\n",
     "output_type": "error",
     "traceback": [
      "Error in is.data.frame(y): object 'categories_dates' not found\nTraceback:\n",
      "1. dplyr::inner_join(categories, categories_dates, by = \"UserID\")",
      "2. inner_join.data.frame(categories, categories_dates, by = \"UserID\")",
      "3. auto_copy(x, y, copy = copy)",
      "4. same_src(x, y)",
      "5. same_src.data.frame(x, y)",
      "6. is.data.frame(y)"
     ]
    }
   ],
   "source": [
    "# Creating daily merged dataset\n",
    "\n",
    "daily_merged <- dplyr::inner_join(categories, categories_dates, by=\"UserID\")\n",
    "daily_merged <- dplyr::inner_join(daily_merged, daily, by=\"UserID\")\n",
    "head(daily_merged)\n",
    "length(unique(daily_merged$UserID))\n",
    "length(daily_merged$UserID)"
   ]
  },
  {
   "cell_type": "code",
   "execution_count": 13,
   "metadata": {
    "scrolled": false
   },
   "outputs": [
    {
     "name": "stderr",
     "output_type": "stream",
     "text": [
      "The following `from` values were not present in `x`: 18, 19, 20, 21, 22\n"
     ]
    },
    {
     "data": {
      "text/html": [
       "<table>\n",
       "<thead><tr><th scope=col>UserID</th><th scope=col>RegistrationDate</th><th scope=col>Age</th><th scope=col>FOFirstActivedate</th><th scope=col>FOLastActivedate</th><th scope=col>FOTotalDaysActive</th><th scope=col>LATotalStakes</th><th scope=col>LATotalWinnings</th><th scope=col>LATotalBets</th><th scope=col>LAFirstActivedate</th><th scope=col>LALastActivedate</th><th scope=col>LATotalDaysActive</th><th scope=col>FirstSportsActivedate</th><th scope=col>Age_Group</th></tr></thead>\n",
       "<tbody>\n",
       "\t<tr><td>1324354   </td><td>2005-02-01</td><td>42        </td><td>2005-02-24</td><td>2005-09-30</td><td>97        </td><td>1839.2800 </td><td>1512.4900 </td><td> 43       </td><td>2005-05-04</td><td>2005-09-26</td><td>18        </td><td>2005-02-24</td><td>40-50     </td></tr>\n",
       "\t<tr><td>1324355   </td><td>2005-02-01</td><td>22        </td><td>2005-02-01</td><td>2005-09-29</td><td>72        </td><td>  24.7000 </td><td>  11.2000 </td><td> 21       </td><td>2005-02-01</td><td>2005-02-07</td><td> 7        </td><td>2005-02-01</td><td>20-30     </td></tr>\n",
       "\t<tr><td>1324356   </td><td>2005-02-01</td><td>28        </td><td>2005-02-02</td><td>2005-09-12</td><td>38        </td><td> 679.0700 </td><td> 625.1500 </td><td>116       </td><td>2005-02-02</td><td>2005-09-11</td><td>23        </td><td>2005-02-02</td><td>20-30     </td></tr>\n",
       "\t<tr><td>1324358   </td><td>2005-02-01</td><td>24        </td><td>2005-02-01</td><td>2005-05-06</td><td> 5        </td><td>  88.5927 </td><td>  55.9819 </td><td>  4       </td><td>2005-05-03</td><td>2005-05-03</td><td> 1        </td><td>2005-02-01</td><td>20-30     </td></tr>\n",
       "\t<tr><td>1324360   </td><td>2005-02-01</td><td>27        </td><td>2005-02-02</td><td>2005-09-25</td><td>17        </td><td>   1.7434 </td><td>   1.2009 </td><td>  3       </td><td>2005-02-12</td><td>2005-09-21</td><td> 2        </td><td>2005-02-02</td><td>20-30     </td></tr>\n",
       "\t<tr><td>1324362   </td><td>2005-02-01</td><td>22        </td><td>2005-02-11</td><td>2005-09-17</td><td> 5        </td><td>       NA </td><td>       NA </td><td> NA       </td><td>NA        </td><td>NA        </td><td>NA        </td><td>2005-02-11</td><td>20-30     </td></tr>\n",
       "</tbody>\n",
       "</table>\n"
      ],
      "text/latex": [
       "\\begin{tabular}{r|llllllllllllll}\n",
       " UserID & RegistrationDate & Age & FOFirstActivedate & FOLastActivedate & FOTotalDaysActive & LATotalStakes & LATotalWinnings & LATotalBets & LAFirstActivedate & LALastActivedate & LATotalDaysActive & FirstSportsActivedate & Age\\_Group\\\\\n",
       "\\hline\n",
       "\t 1324354    & 2005-02-01 & 42         & 2005-02-24 & 2005-09-30 & 97         & 1839.2800  & 1512.4900  &  43        & 2005-05-04 & 2005-09-26 & 18         & 2005-02-24 & 40-50     \\\\\n",
       "\t 1324355    & 2005-02-01 & 22         & 2005-02-01 & 2005-09-29 & 72         &   24.7000  &   11.2000  &  21        & 2005-02-01 & 2005-02-07 &  7         & 2005-02-01 & 20-30     \\\\\n",
       "\t 1324356    & 2005-02-01 & 28         & 2005-02-02 & 2005-09-12 & 38         &  679.0700  &  625.1500  & 116        & 2005-02-02 & 2005-09-11 & 23         & 2005-02-02 & 20-30     \\\\\n",
       "\t 1324358    & 2005-02-01 & 24         & 2005-02-01 & 2005-05-06 &  5         &   88.5927  &   55.9819  &   4        & 2005-05-03 & 2005-05-03 &  1         & 2005-02-01 & 20-30     \\\\\n",
       "\t 1324360    & 2005-02-01 & 27         & 2005-02-02 & 2005-09-25 & 17         &    1.7434  &    1.2009  &   3        & 2005-02-12 & 2005-09-21 &  2         & 2005-02-02 & 20-30     \\\\\n",
       "\t 1324362    & 2005-02-01 & 22         & 2005-02-11 & 2005-09-17 &  5         &        NA  &        NA  &  NA        & NA         & NA         & NA         & 2005-02-11 & 20-30     \\\\\n",
       "\\end{tabular}\n"
      ],
      "text/markdown": [
       "\n",
       "| UserID | RegistrationDate | Age | FOFirstActivedate | FOLastActivedate | FOTotalDaysActive | LATotalStakes | LATotalWinnings | LATotalBets | LAFirstActivedate | LALastActivedate | LATotalDaysActive | FirstSportsActivedate | Age_Group |\n",
       "|---|---|---|---|---|---|---|---|---|---|---|---|---|---|\n",
       "| 1324354    | 2005-02-01 | 42         | 2005-02-24 | 2005-09-30 | 97         | 1839.2800  | 1512.4900  |  43        | 2005-05-04 | 2005-09-26 | 18         | 2005-02-24 | 40-50      |\n",
       "| 1324355    | 2005-02-01 | 22         | 2005-02-01 | 2005-09-29 | 72         |   24.7000  |   11.2000  |  21        | 2005-02-01 | 2005-02-07 |  7         | 2005-02-01 | 20-30      |\n",
       "| 1324356    | 2005-02-01 | 28         | 2005-02-02 | 2005-09-12 | 38         |  679.0700  |  625.1500  | 116        | 2005-02-02 | 2005-09-11 | 23         | 2005-02-02 | 20-30      |\n",
       "| 1324358    | 2005-02-01 | 24         | 2005-02-01 | 2005-05-06 |  5         |   88.5927  |   55.9819  |   4        | 2005-05-03 | 2005-05-03 |  1         | 2005-02-01 | 20-30      |\n",
       "| 1324360    | 2005-02-01 | 27         | 2005-02-02 | 2005-09-25 | 17         |    1.7434  |    1.2009  |   3        | 2005-02-12 | 2005-09-21 |  2         | 2005-02-02 | 20-30      |\n",
       "| 1324362    | 2005-02-01 | 22         | 2005-02-11 | 2005-09-17 |  5         |        NA  |        NA  |  NA        | NA         | NA         | NA         | 2005-02-11 | 20-30      |\n",
       "\n"
      ],
      "text/plain": [
       "  UserID  RegistrationDate Age FOFirstActivedate FOLastActivedate\n",
       "1 1324354 2005-02-01       42  2005-02-24        2005-09-30      \n",
       "2 1324355 2005-02-01       22  2005-02-01        2005-09-29      \n",
       "3 1324356 2005-02-01       28  2005-02-02        2005-09-12      \n",
       "4 1324358 2005-02-01       24  2005-02-01        2005-05-06      \n",
       "5 1324360 2005-02-01       27  2005-02-02        2005-09-25      \n",
       "6 1324362 2005-02-01       22  2005-02-11        2005-09-17      \n",
       "  FOTotalDaysActive LATotalStakes LATotalWinnings LATotalBets LAFirstActivedate\n",
       "1 97                1839.2800     1512.4900        43         2005-05-04       \n",
       "2 72                  24.7000       11.2000        21         2005-02-01       \n",
       "3 38                 679.0700      625.1500       116         2005-02-02       \n",
       "4  5                  88.5927       55.9819         4         2005-05-03       \n",
       "5 17                   1.7434        1.2009         3         2005-02-12       \n",
       "6  5                       NA            NA        NA         <NA>             \n",
       "  LALastActivedate LATotalDaysActive FirstSportsActivedate Age_Group\n",
       "1 2005-09-26       18                2005-02-24            40-50    \n",
       "2 2005-02-07        7                2005-02-01            20-30    \n",
       "3 2005-09-11       23                2005-02-02            20-30    \n",
       "4 2005-05-03        1                2005-02-01            20-30    \n",
       "5 2005-09-21        2                2005-02-02            20-30    \n",
       "6 <NA>             NA                2005-02-11            20-30    "
      ]
     },
     "metadata": {},
     "output_type": "display_data"
    },
    {
     "data": {
      "text/html": [
       "40499"
      ],
      "text/latex": [
       "40499"
      ],
      "text/markdown": [
       "40499"
      ],
      "text/plain": [
       "[1] 40499"
      ]
     },
     "metadata": {},
     "output_type": "display_data"
    },
    {
     "data": {
      "text/html": [
       "40499"
      ],
      "text/latex": [
       "40499"
      ],
      "text/markdown": [
       "40499"
      ],
      "text/plain": [
       "[1] 40499"
      ]
     },
     "metadata": {},
     "output_type": "display_data"
    }
   ],
   "source": [
    "# Reading Analytics Dataset\n",
    "\n",
    "analytic <- read_sas(\"AnalyticDataInternetGambling.sas7bdat\")\n",
    "analytic$LANGUAGE <- analytic$LANGUAGE <- mapvalues(analytic$LANGUAGE,from=c(1,2,3,4,5,6,7,8,9,10,11,12,13,14,15,16,17,18,19,20,21,22), to=c(\"English\",\"German\",\"Italian\",\"Spanish\",\"Swedish\",\"French\",\"Turkish\",\"Greek\",\"Polish\",\"Norwegian\",\"Danish\",\"Catalan\",\n",
    "     \"Czech\",\"Hungarian\",\"Dutch\",\"Portugues\",\"Russian\",\"Slovenian\",\"Croatian\",\"Slovak\",\"Simple Chinese\",\"Traditional Chinese\"))\n",
    "analytic$GENDER <- mapvalues(analytic$GENDER, from=c(1,0), to=c('male', 'female'))\n",
    "names(analytic) <- c('UserID', 'Country','Language','RegistrationDate','Age','Gender','FOTotalStakes','FOTotalWinnings','FOTotalBets','FOFirstActivedate','FOLastActivedate','FOTotalDaysActive','LATotalStakes','LATotalWinnings','LATotalBets','LAFirstActivedate','LALastActivedate','LATotalDaysActive','FirstSportsActivedate')\n",
    "\n",
    "analytic <- analytic %>% select(-Country, -Language, -Gender)\n",
    "\n",
    "#Find the min and max age to create Age_group\n",
    "#analytic %>% select(Age) %>% summarize(max = max(Age), min = min(Age))\n",
    "\n",
    "analytic <- analytic %>% mutate(Age_Group = case_when(Age >= 10  & Age <= 20 ~ '10-20',\n",
    "                                                     Age >= 20  & Age <= 30 ~ '20-30',\n",
    "                                                     Age >= 30  & Age <= 40 ~ '30-40',\n",
    "                                                     Age >= 40  & Age <= 50 ~ '40-50',\n",
    "                                                     Age >= 50  & Age <= 60 ~ '50-60',\n",
    "                                                     Age >= 60  & Age <= 70 ~ '60-70',\n",
    "                                                     Age >= 70  & Age <= 80 ~ '70-80',\n",
    "                                                     Age >= 80  & Age <= 90 ~ '80-90',\n",
    "                                                     Age > 90 ~ '90+'))\n",
    "analytic$Age_Group[(is.na(analytic$Age_Group))] <- \"Unknown\"\n",
    "\n",
    "analytic <- analytic %>% select(-FOTotalStakes, -FOTotalWinnings, -FOTotalBets)\n",
    "head(analytic)\n",
    "length(unique(analytic$UserID))\n",
    "length(analytic$UserID)\n"
   ]
  },
  {
   "cell_type": "code",
   "execution_count": 14,
   "metadata": {},
   "outputs": [
    {
     "ename": "ERROR",
     "evalue": "Error in dplyr::full_join(daily_merged, analytic, by = c(\"UserID\")): object 'daily_merged' not found\n",
     "output_type": "error",
     "traceback": [
      "Error in dplyr::full_join(daily_merged, analytic, by = c(\"UserID\")): object 'daily_merged' not found\nTraceback:\n",
      "1. dplyr::full_join(daily_merged, analytic, by = c(\"UserID\"))"
     ]
    }
   ],
   "source": [
    "# Full join all the available datasets\n",
    "\n",
    "database <- dplyr::full_join(daily_merged, analytic, by=c('UserID'))\n",
    "database <- dplyr::full_join(database, poker_merged, by=c('UserID'))\n",
    "database <- dplyr::full_join(database, demo, by=c('UserID'))\n",
    "database <- dplyr::full_join(database, totalstakesmonth, by=c('UserID'))\n",
    "\n",
    "database <- database %>% select(-FirstSp.y, -FirstGa.y, -FirstCa.x, -LATotalStakes.y, -RegistrationDate.x,\n",
    "                                -LATotalWinnings.y,-LATotalBets.y,-FirstPo.y)\n",
    "\n",
    "database <- rename(database,c('FirstSp'='FirstSp.x'))\n",
    "database <- rename(database,c('FirstGa'='FirstGa.x'))\n",
    "database <- rename(database,c('LATotalStakes'='LATotalStakes.x'))\n",
    "database <- rename(database,c('LATotalWinnings'='LATotalWinnings.x'))\n",
    "database <- rename(database,c('LATotalBets'='LATotalBets.x'))\n",
    "database <- rename(database,c('FirstPo'='FirstPo.x'))\n",
    "database <- rename(database,c('FirstCa'='FirstCa.y'))\n",
    "database <- rename(database,c('RegistrationDate'='RegistrationDate.y'))\n",
    "\n",
    "\n",
    "database$CountryName[(is.na(database$CountryName))] <- \"Unknown\"\n",
    "database$Language[(is.na(database$Language))] <- \"Unknown\"\n",
    "database$Gender[(is.na(database$Gender))] <- \"Unknown\"\n",
    "\n",
    "length(unique(database$UserID))\n",
    "#colSums(is.na(database))"
   ]
  },
  {
   "cell_type": "code",
   "execution_count": 15,
   "metadata": {
    "scrolled": true
   },
   "outputs": [
    {
     "ename": "ERROR",
     "evalue": "Error in eval(lhs, parent, parent): object 'database' not found\n",
     "output_type": "error",
     "traceback": [
      "Error in eval(lhs, parent, parent): object 'database' not found\nTraceback:\n",
      "1. database %>% mutate_if(is.numeric, replace_na, replace = 0)",
      "2. eval(lhs, parent, parent)",
      "3. eval(lhs, parent, parent)"
     ]
    }
   ],
   "source": [
    "# Replacing NA with Zero\n",
    "\n",
    "database <- database %>% mutate_if(is.numeric, replace_na, replace = 0)"
   ]
  },
  {
   "cell_type": "code",
   "execution_count": 16,
   "metadata": {},
   "outputs": [
    {
     "ename": "ERROR",
     "evalue": "Error in is.data.frame(x): object 'database' not found\n",
     "output_type": "error",
     "traceback": [
      "Error in is.data.frame(x): object 'database' not found\nTraceback:\n",
      "1. colSums(is.na(database))",
      "2. is.data.frame(x)"
     ]
    }
   ],
   "source": [
    "# Checking Null Values\n",
    "\n",
    "colSums(is.na(database))"
   ]
  },
  {
   "cell_type": "code",
   "execution_count": 17,
   "metadata": {},
   "outputs": [
    {
     "ename": "ERROR",
     "evalue": "Error in is.data.frame(x): object 'database' not found\n",
     "output_type": "error",
     "traceback": [
      "Error in is.data.frame(x): object 'database' not found\nTraceback:\n",
      "1. colnames(database)",
      "2. is.data.frame(x)"
     ]
    }
   ],
   "source": [
    "# Checking Column Names\n",
    "\n",
    "colnames(database)"
   ]
  },
  {
   "cell_type": "code",
   "execution_count": 18,
   "metadata": {
    "scrolled": false
   },
   "outputs": [
    {
     "ename": "ERROR",
     "evalue": "Error in ggplot(database, aes(Gender, fill = Gender)): object 'database' not found\n",
     "output_type": "error",
     "traceback": [
      "Error in ggplot(database, aes(Gender, fill = Gender)): object 'database' not found\nTraceback:\n",
      "1. ggplot(database, aes(Gender, fill = Gender))"
     ]
    }
   ],
   "source": [
    "# Plotting Gender Graph\n",
    "\n",
    "options(repr.plot.width=6, repr.plot.height=4)\n",
    "\n",
    "ggplot(database, aes(Gender, fill = Gender)) + \n",
    "    geom_bar()"
   ]
  },
  {
   "cell_type": "code",
   "execution_count": 19,
   "metadata": {},
   "outputs": [
    {
     "ename": "ERROR",
     "evalue": "Error in is.data.frame(x): object 'database' not found\n",
     "output_type": "error",
     "traceback": [
      "Error in is.data.frame(x): object 'database' not found\nTraceback:\n",
      "1. colnames(database)",
      "2. is.data.frame(x)"
     ]
    }
   ],
   "source": [
    "# Checking Column Names\n",
    "\n",
    "colnames(database)"
   ]
  },
  {
   "cell_type": "code",
   "execution_count": 20,
   "metadata": {},
   "outputs": [
    {
     "ename": "ERROR",
     "evalue": "Error in eval(lhs, parent, parent): object 'database' not found\n",
     "output_type": "error",
     "traceback": [
      "Error in eval(lhs, parent, parent): object 'database' not found\nTraceback:\n",
      "1. database %>% ggplot(aes(Gender, CAwin))",
      "2. eval(lhs, parent, parent)",
      "3. eval(lhs, parent, parent)"
     ]
    }
   ],
   "source": [
    "# Plotting Gender Vs CAWin\n",
    "\n",
    "#Group_by Language Gender Group_Age ApplicationId\n",
    "# Bet    POacive_dates GAbets CAbets Spbets\n",
    "# win    GAwin CAwin POwinnings Spwin \n",
    "# Stakes PObets CAstakes GAstakes SPStakes\n",
    "\n",
    "database %>%  \n",
    "ggplot(aes(Gender, CAwin)) + geom_bar(stat='identity', na.rm=TRUE)"
   ]
  },
  {
   "cell_type": "code",
   "execution_count": 21,
   "metadata": {},
   "outputs": [
    {
     "ename": "ERROR",
     "evalue": "Error in eval(lhs, parent, parent): object 'database' not found\n",
     "output_type": "error",
     "traceback": [
      "Error in eval(lhs, parent, parent): object 'database' not found\nTraceback:\n",
      "1. database %>% group_by(CountryName) %>% filter(CountryName == \n .     \"France\") %>% summarise(test = sum(CAbets))",
      "2. eval(lhs, parent, parent)",
      "3. eval(lhs, parent, parent)"
     ]
    }
   ],
   "source": [
    "# Creating French & Spain varaibles\n",
    "\n",
    "fr <- database%>% group_by(CountryName) %>% filter(CountryName == 'France') %>% summarise(test = sum(CAbets))\n",
    "esp <-  database%>% group_by(CountryName) %>% filter(CountryName == 'Spain') %>% summarise(test = sum(CAbets))"
   ]
  },
  {
   "cell_type": "code",
   "execution_count": 22,
   "metadata": {
    "scrolled": false
   },
   "outputs": [
    {
     "ename": "ERROR",
     "evalue": "Error in eval(lhs, parent, parent): object 'database' not found\n",
     "output_type": "error",
     "traceback": [
      "Error in eval(lhs, parent, parent): object 'database' not found\nTraceback:\n",
      "1. database %>% group_by(CountryName) %>% filter(CountryName == \n .     \"France\") %>% summarise(test = sum(CAbets, na.rm = TRUE))",
      "2. eval(lhs, parent, parent)",
      "3. eval(lhs, parent, parent)"
     ]
    }
   ],
   "source": [
    "# Summarizing CAbets for France & Spain\n",
    "\n",
    "fr <- database%>% group_by(CountryName) %>% filter(CountryName == 'France') %>% summarise(test = sum(CAbets,na.rm=TRUE))\n",
    "esp <-  database%>% group_by(CountryName) %>% filter(CountryName == 'Spain') %>% summarise(test = sum(CAbets,na.rm=TRUE))\n",
    "df <- dplyr::full_join(fr, esp)\n",
    "df\n",
    "\n",
    "ggplot(df, aes(x=CountryName, y=test)) + \n",
    "    geom_bar(stat='identity', position='dodge')"
   ]
  },
  {
   "cell_type": "code",
   "execution_count": 23,
   "metadata": {
    "scrolled": false
   },
   "outputs": [
    {
     "ename": "ERROR",
     "evalue": "Error in is.data.frame(x): object 'database' not found\n",
     "output_type": "error",
     "traceback": [
      "Error in is.data.frame(x): object 'database' not found\nTraceback:\n",
      "1. colnames(database)",
      "2. is.data.frame(x)"
     ]
    }
   ],
   "source": [
    "# Checking Column Names\n",
    "\n",
    "colnames(database)"
   ]
  },
  {
   "cell_type": "code",
   "execution_count": 24,
   "metadata": {},
   "outputs": [
    {
     "ename": "ERROR",
     "evalue": "Error in eval(expr, envir, enclos): object 'LastActiveDate' not found\n",
     "output_type": "error",
     "traceback": [
      "Error in eval(expr, envir, enclos): object 'LastActiveDate' not found\nTraceback:\n"
     ]
    }
   ],
   "source": [
    "# Formatting into Date Format\n",
    "\n",
    "as.Date(\"20050930\",\"%Y%m%d\") - LastActiveDate[1]"
   ]
  },
  {
   "cell_type": "code",
   "execution_count": 25,
   "metadata": {
    "scrolled": false
   },
   "outputs": [
    {
     "ename": "ERROR",
     "evalue": "Error in head(database, 100): object 'database' not found\n",
     "output_type": "error",
     "traceback": [
      "Error in head(database, 100): object 'database' not found\nTraceback:\n",
      "1. head(database, 100) %>% select(UserID, Age_Group, CountryName, \n .     LastSp, LastCa, LastGa, LastPo)",
      "2. eval(lhs, parent, parent)",
      "3. eval(lhs, parent, parent)",
      "4. head(database, 100)"
     ]
    }
   ],
   "source": [
    "# Creating Test Variable\n",
    "\n",
    "test <- head(database,100) %>% select(UserID, Age_Group,CountryName, LastSp, LastCa, LastGa, LastPo)\n",
    "test$LastPo <- as.Date(test$LastPo,\"%Y%m%d\")\n",
    "\n",
    "test <- test %>% mutate(recencyCa = mdy(09302005)- LastCa, recencyPo = mdy(09302005)- LastPo, recencyGa = mdy(09302005)- LastGa, recencySp = mdy(09302005)- LastSp) %>% select(-LastSp, -LastCa, -LastGa, -LastPo) \n",
    "\n",
    "test$recencyGa <- as.numeric(test$recencyGa)\n",
    "test$recencyPo <- as.numeric(test$recencyPo)\n",
    "test$recencyCa <- as.numeric(test$recencyCa)\n",
    "test$recencySp <- as.numeric(test$recencySp)\n",
    "\n",
    "head(test)\n",
    "test <- test %>% filter(Age_Group =='20-30') %>% select(-Age_Group) %>%  group_by(CountryName) %>% \n",
    "summarise(median_recency_Ca = median(recencyCa, na.rm=TRUE), median_recency_Ga = median(recencyGa, na.rm=TRUE), median_recency_Sp = median(recencySp, na.rm=TRUE), median_recency_Po = median(recencyPo, na.rm=TRUE))\n",
    "\n",
    "test <- test %>% tidyr::gather(month, \"value\", 2:5) %>% arrange(CountryName) %>%\n",
    "     filter(CountryName =='France')\n",
    "\n",
    "str(test)\n",
    "\n",
    "ggplot(test, aes(x=month, y=value)) + geom_bar(stat='identity')"
   ]
  },
  {
   "cell_type": "code",
   "execution_count": 26,
   "metadata": {},
   "outputs": [
    {
     "ename": "ERROR",
     "evalue": "Error in is.data.frame(x): object 'database' not found\n",
     "output_type": "error",
     "traceback": [
      "Error in is.data.frame(x): object 'database' not found\nTraceback:\n",
      "1. colnames(database)",
      "2. is.data.frame(x)"
     ]
    }
   ],
   "source": [
    "# Checking Column Names\n",
    "\n",
    "colnames(database)"
   ]
  },
  {
   "cell_type": "code",
   "execution_count": 27,
   "metadata": {},
   "outputs": [
    {
     "ename": "ERROR",
     "evalue": "Error in eval(lhs, parent, parent): object 'database' not found\n",
     "output_type": "error",
     "traceback": [
      "Error in eval(lhs, parent, parent): object 'database' not found\nTraceback:\n",
      "1. database %>% select(UserID, Age_Group, CountryName, SPbets, CAbets, \n .     GAbets, PObets) %>% filter(Age_Group == \"20-30\") %>% select(-Age_Group) %>% \n .     group_by(CountryName) %>% summarise(Sum_CA = sum(CAbets, \n .     na.rm = TRUE), Sum_GA = sum(GAbets, na.rm = TRUE), Sum_SP = sum(SPbets, \n .     na.rm = TRUE), Sum_PO = sum(PObets, na.rm = TRUE))",
      "2. eval(lhs, parent, parent)",
      "3. eval(lhs, parent, parent)"
     ]
    }
   ],
   "source": [
    "# Plotting Type Vs Number of Play\n",
    "\n",
    "nbr_play <- database %>% select(UserID, Age_Group, CountryName, SPbets, CAbets, GAbets, PObets) %>% \n",
    "filter(Age_Group =='20-30') %>% select(-Age_Group) %>%  group_by(CountryName) %>% \n",
    "summarise(Sum_CA = sum(CAbets, na.rm=TRUE),Sum_GA = sum(GAbets, na.rm=TRUE), Sum_SP = sum(SPbets, na.rm=TRUE), Sum_PO = sum(PObets, na.rm=TRUE))\n",
    "\n",
    "nbr_play <- nbr_play %>% tidyr::gather(type, \"value\", 2:5) %>% arrange(CountryName) %>%\n",
    "     filter(CountryName =='France')\n",
    "\n",
    "\n",
    "\n",
    "ggplot(nbr_play, aes(x=type, y=value)) + geom_bar(stat='identity')"
   ]
  },
  {
   "cell_type": "code",
   "execution_count": 28,
   "metadata": {
    "scrolled": false
   },
   "outputs": [
    {
     "ename": "ERROR",
     "evalue": "Error in eval(lhs, parent, parent): object 'database' not found\n",
     "output_type": "error",
     "traceback": [
      "Error in eval(lhs, parent, parent): object 'database' not found\nTraceback:\n",
      "1. database %>% select(UserID, Age_Group, CountryName, SPbets, CAbets, \n .     GAbets, PObets) %>% filter(Age_Group == \"20-30\") %>% select(-Age_Group) %>% \n .     group_by(CountryName)",
      "2. eval(lhs, parent, parent)",
      "3. eval(lhs, parent, parent)"
     ]
    }
   ],
   "source": [
    "# Plotting Number of Players\n",
    "\n",
    "count_player <- database %>% select(UserID, Age_Group, CountryName, SPbets, CAbets, GAbets, PObets) %>% \n",
    "filter(Age_Group =='20-30') %>% select(-Age_Group) %>%  group_by(CountryName) \n",
    "count_player[count_player ==0] <- NA\n",
    "\n",
    "count_player <- count_player %>% summarise(Player_CA = sum(!is.na(CAbets)),Player_GA = sum(!is.na(GAbets)), Player_SP = sum(!is.na(SPbets)), Player_PO = sum(!is.na(PObets)))\n",
    "\n",
    "head(count_player)\n",
    "\n",
    "count_player <- count_player %>% tidyr::gather(type, \"value\", 2:5) %>% arrange(CountryName) %>%\n",
    "     filter(CountryName =='France')\n",
    "\n",
    "\n",
    "ggplot(count_player, aes(x=type, y=value)) + geom_bar(stat='identity')"
   ]
  },
  {
   "cell_type": "code",
   "execution_count": 29,
   "metadata": {},
   "outputs": [
    {
     "ename": "ERROR",
     "evalue": "Error in head(database, 10): object 'database' not found\n",
     "output_type": "error",
     "traceback": [
      "Error in head(database, 10): object 'database' not found\nTraceback:\n",
      "1. head(database, 10)"
     ]
    }
   ],
   "source": [
    "# Checking the head of the dataset\n",
    "\n",
    "head(database,10) #%>% filter(CountryName == 'France')"
   ]
  },
  {
   "cell_type": "code",
   "execution_count": 30,
   "metadata": {
    "scrolled": false
   },
   "outputs": [
    {
     "ename": "ERROR",
     "evalue": "Error in eval(lhs, parent, parent): object 'database' not found\n",
     "output_type": "error",
     "traceback": [
      "Error in eval(lhs, parent, parent): object 'database' not found\nTraceback:\n",
      "1. database %>% select(UserID, Gender, CountryName, February, March, \n .     April, May, June, July, August, September)",
      "2. eval(lhs, parent, parent)",
      "3. eval(lhs, parent, parent)"
     ]
    }
   ],
   "source": [
    "# Plotting Monthwise summary\n",
    "\n",
    "monthplot <- database %>% select(UserID, Gender, CountryName, February, March, April, May, June, July, August, September)\n",
    "monthplot <- monthplot %>% tidyr::gather(month, \"value\", 4:11) %>% \n",
    "    arrange(UserID) %>% \n",
    "    filter(CountryName =='France') %>%\n",
    "    group_by(month) %>% \n",
    "    summarise(value = sum(value))%>% arrange(match(month,c(\"February\", \"March\", \"April\", \"May\", \"June\", \"July\", \"August\", \"September\")) )\n",
    "\n",
    "monthplot\n",
    "#monthplot$month <- factor(monthplot$month, levels=c(\"February\", \"March\", \"April\", \"May\", \"June\", \"July\", \"August\", \"September\"))\n",
    "\n",
    "ggplot(monthplot, aes(x=month, y=value)) + geom_bar(stat='identity')"
   ]
  },
  {
   "cell_type": "code",
   "execution_count": 31,
   "metadata": {
    "scrolled": false
   },
   "outputs": [
    {
     "ename": "ERROR",
     "evalue": "Error in ggplot(database, aes(Age)): object 'database' not found\n",
     "output_type": "error",
     "traceback": [
      "Error in ggplot(database, aes(Age)): object 'database' not found\nTraceback:\n",
      "1. ggplot(database, aes(Age))"
     ]
    }
   ],
   "source": [
    "# Plotting Agewise Summary\n",
    "\n",
    "ggplot(database, aes(Age)) + geom_histogram(bins=25)"
   ]
  },
  {
   "cell_type": "code",
   "execution_count": 32,
   "metadata": {
    "scrolled": false
   },
   "outputs": [
    {
     "ename": "ERROR",
     "evalue": "Error in eval(lhs, parent, parent): object 'database' not found\n",
     "output_type": "error",
     "traceback": [
      "Error in eval(lhs, parent, parent): object 'database' not found\nTraceback:\n",
      "1. database %>% select(CountryName, Gender) %>% filter(CountryName == \n .     \"France\") %>% group_by(CountryName, Gender) %>% summarise(test = n())",
      "2. eval(lhs, parent, parent)",
      "3. eval(lhs, parent, parent)"
     ]
    }
   ],
   "source": [
    "# Plotting Gender wise summary\n",
    "\n",
    "df <- database %>% select(CountryName, Gender) %>% filter(CountryName == 'France') %>% group_by(CountryName, Gender) %>% summarise(test = n())\n",
    "df\n",
    "\n",
    "ggplot(df, aes(x=Gender, y= test)) + geom_bar(stat='identity')"
   ]
  },
  {
   "cell_type": "code",
   "execution_count": 34,
   "metadata": {},
   "outputs": [],
   "source": [
    "# Creating the final Marketing Data Mart\n",
    "\n",
    "write.csv(database,\"Rdatabase.csv\")"
   ]
  }
 ],
 "metadata": {
  "kernelspec": {
   "display_name": "R",
   "language": "R",
   "name": "ir"
  },
  "language_info": {
   "codemirror_mode": "r",
   "file_extension": ".r",
   "mimetype": "text/x-r-source",
   "name": "R",
   "pygments_lexer": "r",
   "version": "3.6.1"
  }
 },
 "nbformat": 4,
 "nbformat_minor": 4
}
